{
 "cells": [
  {
   "cell_type": "markdown",
   "id": "35d48a44",
   "metadata": {
    "papermill": {
     "duration": 0.009036,
     "end_time": "2024-11-04T15:05:24.545847",
     "exception": false,
     "start_time": "2024-11-04T15:05:24.536811",
     "status": "completed"
    },
    "tags": []
   },
   "source": [
    "# Setup\n"
   ]
  },
  {
   "cell_type": "markdown",
   "id": "701496e9",
   "metadata": {
    "papermill": {
     "duration": 0.007285,
     "end_time": "2024-11-04T15:05:24.561073",
     "exception": false,
     "start_time": "2024-11-04T15:05:24.553788",
     "status": "completed"
    },
    "tags": []
   },
   "source": [
    "### Install required libraries\n",
    "\n",
    "In case of a requirement of installing certain python libraries for use in your task, you may do so as shown below.\n"
   ]
  },
  {
   "cell_type": "markdown",
   "id": "2a7d3f76",
   "metadata": {
    "papermill": {
     "duration": 0.007266,
     "end_time": "2024-11-04T15:05:24.575889",
     "exception": false,
     "start_time": "2024-11-04T15:05:24.568623",
     "status": "completed"
    },
    "tags": []
   },
   "source": [
    "## Install Required Libraries"
   ]
  },
  {
   "cell_type": "code",
   "execution_count": 1,
   "id": "28a7a4eb",
   "metadata": {
    "execution": {
     "iopub.execute_input": "2024-11-04T15:05:24.592916Z",
     "iopub.status.busy": "2024-11-04T15:05:24.592377Z",
     "iopub.status.idle": "2024-11-04T15:05:38.199269Z",
     "shell.execute_reply": "2024-11-04T15:05:38.197907Z"
    },
    "papermill": {
     "duration": 13.618449,
     "end_time": "2024-11-04T15:05:38.201856",
     "exception": false,
     "start_time": "2024-11-04T15:05:24.583407",
     "status": "completed"
    },
    "tags": []
   },
   "outputs": [
    {
     "name": "stdout",
     "output_type": "stream",
     "text": [
      "Collecting pycountry\r\n",
      "  Downloading pycountry-24.6.1-py3-none-any.whl.metadata (12 kB)\r\n",
      "Downloading pycountry-24.6.1-py3-none-any.whl (6.3 MB)\r\n",
      "\u001b[2K   \u001b[90m━━━━━━━━━━━━━━━━━━━━━━━━━━━━━━━━━━━━━━━━\u001b[0m \u001b[32m6.3/6.3 MB\u001b[0m \u001b[31m39.4 MB/s\u001b[0m eta \u001b[36m0:00:00\u001b[0m\r\n",
      "\u001b[?25hInstalling collected packages: pycountry\r\n",
      "Successfully installed pycountry-24.6.1\r\n"
     ]
    }
   ],
   "source": [
    "!pip install pycountry"
   ]
  },
  {
   "cell_type": "markdown",
   "id": "e3349f41",
   "metadata": {
    "papermill": {
     "duration": 0.00803,
     "end_time": "2024-11-04T15:05:38.219206",
     "exception": false,
     "start_time": "2024-11-04T15:05:38.211176",
     "status": "completed"
    },
    "tags": []
   },
   "source": [
    "## Import Required Libraries"
   ]
  },
  {
   "cell_type": "code",
   "execution_count": 2,
   "id": "63743641",
   "metadata": {
    "execution": {
     "iopub.execute_input": "2024-11-04T15:05:38.237735Z",
     "iopub.status.busy": "2024-11-04T15:05:38.237287Z",
     "iopub.status.idle": "2024-11-04T15:05:43.685735Z",
     "shell.execute_reply": "2024-11-04T15:05:43.684470Z"
    },
    "papermill": {
     "duration": 5.461045,
     "end_time": "2024-11-04T15:05:43.688528",
     "exception": false,
     "start_time": "2024-11-04T15:05:38.227483",
     "status": "completed"
    },
    "tags": []
   },
   "outputs": [],
   "source": [
    "import pandas as pd\n",
    "import numpy as np\n",
    "import plotly.graph_objects as go\n",
    "from plotly.subplots import make_subplots\n",
    "import pycountry as pc\n",
    "from plotly import offline\n",
    "import plotly.offline as pyo\n",
    "import plotly.express as px\n",
    "import folium\n",
    "import statsmodels.api as sm"
   ]
  },
  {
   "cell_type": "markdown",
   "id": "28269896",
   "metadata": {
    "papermill": {
     "duration": 0.009492,
     "end_time": "2024-11-04T15:05:43.706808",
     "exception": false,
     "start_time": "2024-11-04T15:05:43.697316",
     "status": "completed"
    },
    "tags": []
   },
   "source": [
    "---\n"
   ]
  },
  {
   "cell_type": "markdown",
   "id": "95212030",
   "metadata": {
    "papermill": {
     "duration": 0.007991,
     "end_time": "2024-11-04T15:05:43.723534",
     "exception": false,
     "start_time": "2024-11-04T15:05:43.715543",
     "status": "completed"
    },
    "tags": []
   },
   "source": [
    "# Select the Dataset\n"
   ]
  },
  {
   "cell_type": "code",
   "execution_count": 3,
   "id": "e4b9bd72",
   "metadata": {
    "execution": {
     "iopub.execute_input": "2024-11-04T15:05:43.742643Z",
     "iopub.status.busy": "2024-11-04T15:05:43.742008Z",
     "iopub.status.idle": "2024-11-04T15:05:43.786339Z",
     "shell.execute_reply": "2024-11-04T15:05:43.785190Z"
    },
    "papermill": {
     "duration": 0.056593,
     "end_time": "2024-11-04T15:05:43.788762",
     "exception": false,
     "start_time": "2024-11-04T15:05:43.732169",
     "status": "completed"
    },
    "tags": []
   },
   "outputs": [
    {
     "data": {
      "text/html": [
       "<div>\n",
       "<style scoped>\n",
       "    .dataframe tbody tr th:only-of-type {\n",
       "        vertical-align: middle;\n",
       "    }\n",
       "\n",
       "    .dataframe tbody tr th {\n",
       "        vertical-align: top;\n",
       "    }\n",
       "\n",
       "    .dataframe thead th {\n",
       "        text-align: right;\n",
       "    }\n",
       "</style>\n",
       "<table border=\"1\" class=\"dataframe\">\n",
       "  <thead>\n",
       "    <tr style=\"text-align: right;\">\n",
       "      <th></th>\n",
       "      <th>Country</th>\n",
       "      <th>Region</th>\n",
       "      <th>Happiness Rank</th>\n",
       "      <th>Happiness Score</th>\n",
       "      <th>Lower Confidence Interval</th>\n",
       "      <th>Upper Confidence Interval</th>\n",
       "      <th>Economy (GDP per Capita)</th>\n",
       "      <th>Family</th>\n",
       "      <th>Health (Life Expectancy)</th>\n",
       "      <th>Freedom</th>\n",
       "      <th>Trust (Government Corruption)</th>\n",
       "      <th>Generosity</th>\n",
       "      <th>Dystopia Residual</th>\n",
       "    </tr>\n",
       "  </thead>\n",
       "  <tbody>\n",
       "    <tr>\n",
       "      <th>0</th>\n",
       "      <td>Denmark</td>\n",
       "      <td>Western Europe</td>\n",
       "      <td>1</td>\n",
       "      <td>7.526</td>\n",
       "      <td>7.460</td>\n",
       "      <td>7.592</td>\n",
       "      <td>1.44178</td>\n",
       "      <td>1.16374</td>\n",
       "      <td>0.79504</td>\n",
       "      <td>0.57941</td>\n",
       "      <td>0.44453</td>\n",
       "      <td>0.36171</td>\n",
       "      <td>2.73939</td>\n",
       "    </tr>\n",
       "    <tr>\n",
       "      <th>1</th>\n",
       "      <td>Switzerland</td>\n",
       "      <td>Western Europe</td>\n",
       "      <td>2</td>\n",
       "      <td>7.509</td>\n",
       "      <td>7.428</td>\n",
       "      <td>7.59</td>\n",
       "      <td>1.52733</td>\n",
       "      <td>1.14524</td>\n",
       "      <td>0.86303</td>\n",
       "      <td>0.58557</td>\n",
       "      <td>0.41203</td>\n",
       "      <td>0.28083</td>\n",
       "      <td>2.69463</td>\n",
       "    </tr>\n",
       "    <tr>\n",
       "      <th>2</th>\n",
       "      <td>Iceland</td>\n",
       "      <td>Western Europe</td>\n",
       "      <td>3</td>\n",
       "      <td>7.501</td>\n",
       "      <td>7.333</td>\n",
       "      <td>7.669</td>\n",
       "      <td>1.42666</td>\n",
       "      <td>1.18326</td>\n",
       "      <td>0.86733</td>\n",
       "      <td>0.56624</td>\n",
       "      <td>0.14975</td>\n",
       "      <td>0.47678</td>\n",
       "      <td>2.83137</td>\n",
       "    </tr>\n",
       "    <tr>\n",
       "      <th>3</th>\n",
       "      <td>Norway</td>\n",
       "      <td>Western Europe</td>\n",
       "      <td>4</td>\n",
       "      <td>7.498</td>\n",
       "      <td>7.421</td>\n",
       "      <td>7.575</td>\n",
       "      <td>1.57744</td>\n",
       "      <td>1.12690</td>\n",
       "      <td>0.79579</td>\n",
       "      <td>0.59609</td>\n",
       "      <td>0.35776</td>\n",
       "      <td>0.37895</td>\n",
       "      <td>2.66465</td>\n",
       "    </tr>\n",
       "    <tr>\n",
       "      <th>4</th>\n",
       "      <td>Finland</td>\n",
       "      <td>Western Europe</td>\n",
       "      <td>5</td>\n",
       "      <td>7.413</td>\n",
       "      <td>7.351</td>\n",
       "      <td>7.475</td>\n",
       "      <td>1.40598</td>\n",
       "      <td>1.13464</td>\n",
       "      <td>0.81091</td>\n",
       "      <td>0.57104</td>\n",
       "      <td>0.41004</td>\n",
       "      <td>0.25492</td>\n",
       "      <td>2.82596</td>\n",
       "    </tr>\n",
       "  </tbody>\n",
       "</table>\n",
       "</div>"
      ],
      "text/plain": [
       "       Country          Region  Happiness Rank  Happiness Score  \\\n",
       "0      Denmark  Western Europe               1            7.526   \n",
       "1  Switzerland  Western Europe               2            7.509   \n",
       "2      Iceland  Western Europe               3            7.501   \n",
       "3       Norway  Western Europe               4            7.498   \n",
       "4      Finland  Western Europe               5            7.413   \n",
       "\n",
       "   Lower Confidence Interval Upper Confidence Interval  \\\n",
       "0                      7.460                     7.592   \n",
       "1                      7.428                      7.59   \n",
       "2                      7.333                     7.669   \n",
       "3                      7.421                     7.575   \n",
       "4                      7.351                     7.475   \n",
       "\n",
       "  Economy (GDP per Capita)   Family Health (Life Expectancy)  Freedom  \\\n",
       "0                  1.44178  1.16374                  0.79504  0.57941   \n",
       "1                  1.52733  1.14524                  0.86303  0.58557   \n",
       "2                  1.42666  1.18326                  0.86733  0.56624   \n",
       "3                  1.57744  1.12690                  0.79579  0.59609   \n",
       "4                  1.40598  1.13464                  0.81091  0.57104   \n",
       "\n",
       "   Trust (Government Corruption)  Generosity  Dystopia Residual  \n",
       "0                        0.44453     0.36171            2.73939  \n",
       "1                        0.41203     0.28083            2.69463  \n",
       "2                        0.14975     0.47678            2.83137  \n",
       "3                        0.35776     0.37895            2.66465  \n",
       "4                        0.41004     0.25492            2.82596  "
      ]
     },
     "execution_count": 3,
     "metadata": {},
     "output_type": "execute_result"
    }
   ],
   "source": [
    "df = pd.read_csv('/kaggle/input/happiness-world/2016.csv')\n",
    "# Get the statistical description of all the features\n",
    "df.head()"
   ]
  },
  {
   "cell_type": "markdown",
   "id": "db92c68d",
   "metadata": {
    "papermill": {
     "duration": 0.008067,
     "end_time": "2024-11-04T15:05:43.805360",
     "exception": false,
     "start_time": "2024-11-04T15:05:43.797293",
     "status": "completed"
    },
    "tags": []
   },
   "source": [
    "## Data Cleaning"
   ]
  },
  {
   "cell_type": "code",
   "execution_count": 4,
   "id": "754600eb",
   "metadata": {
    "execution": {
     "iopub.execute_input": "2024-11-04T15:05:43.823977Z",
     "iopub.status.busy": "2024-11-04T15:05:43.823551Z",
     "iopub.status.idle": "2024-11-04T15:05:43.851410Z",
     "shell.execute_reply": "2024-11-04T15:05:43.850153Z"
    },
    "papermill": {
     "duration": 0.040341,
     "end_time": "2024-11-04T15:05:43.854075",
     "exception": false,
     "start_time": "2024-11-04T15:05:43.813734",
     "status": "completed"
    },
    "tags": []
   },
   "outputs": [
    {
     "name": "stdout",
     "output_type": "stream",
     "text": [
      "Summary statistics for numeric columns:\n",
      "Happiness Rank:\n",
      "count    157.000000\n",
      "mean      78.980892\n",
      "std       45.466030\n",
      "min        1.000000\n",
      "25%       40.000000\n",
      "50%       79.000000\n",
      "75%      118.000000\n",
      "max      157.000000\n",
      "Name: Happiness Rank, dtype: float64\n",
      "Happiness Score:\n",
      "count    157.000000\n",
      "mean       5.382185\n",
      "std        1.141674\n",
      "min        2.905000\n",
      "25%        4.404000\n",
      "50%        5.314000\n",
      "75%        6.269000\n",
      "max        7.526000\n",
      "Name: Happiness Score, dtype: float64\n",
      "Lower Confidence Interval:\n",
      "count    153.000000\n",
      "mean       5.268641\n",
      "std        1.151503\n",
      "min        2.732000\n",
      "25%        4.322000\n",
      "50%        5.226000\n",
      "75%        6.128000\n",
      "max        7.460000\n",
      "Name: Lower Confidence Interval, dtype: float64\n",
      "Family:\n",
      "count    157.000000\n",
      "mean       0.793621\n",
      "std        0.266706\n",
      "min        0.000000\n",
      "25%        0.641840\n",
      "50%        0.841420\n",
      "75%        1.021520\n",
      "max        1.183260\n",
      "Name: Family, dtype: float64\n",
      "Trust (Government Corruption):\n",
      "count    157.000000\n",
      "mean       0.137624\n",
      "std        0.111038\n",
      "min        0.000000\n",
      "25%        0.061260\n",
      "50%        0.105470\n",
      "75%        0.175540\n",
      "max        0.505210\n",
      "Name: Trust (Government Corruption), dtype: float64\n",
      "Generosity:\n",
      "count    157.000000\n",
      "mean       0.242635\n",
      "std        0.133756\n",
      "min        0.000000\n",
      "25%        0.154570\n",
      "50%        0.222450\n",
      "75%        0.311850\n",
      "max        0.819710\n",
      "Name: Generosity, dtype: float64\n",
      "Dystopia Residual:\n",
      "count    157.000000\n",
      "mean       2.325807\n",
      "std        0.542220\n",
      "min        0.817890\n",
      "25%        2.031710\n",
      "50%        2.290740\n",
      "75%        2.664650\n",
      "max        3.837720\n",
      "Name: Dystopia Residual, dtype: float64\n"
     ]
    }
   ],
   "source": [
    "# Get the summary statistics for numeric columns\n",
    "numeric_cols = df.select_dtypes(include=['int64', 'float64']).columns\n",
    "print(\"Summary statistics for numeric columns:\")\n",
    "for col in numeric_cols:\n",
    "    print(f\"{col}:\")\n",
    "    print(df[col].describe())\n"
   ]
  },
  {
   "cell_type": "code",
   "execution_count": 5,
   "id": "8a3c0436",
   "metadata": {
    "execution": {
     "iopub.execute_input": "2024-11-04T15:05:43.873787Z",
     "iopub.status.busy": "2024-11-04T15:05:43.873329Z",
     "iopub.status.idle": "2024-11-04T15:05:43.896897Z",
     "shell.execute_reply": "2024-11-04T15:05:43.895662Z"
    },
    "papermill": {
     "duration": 0.036718,
     "end_time": "2024-11-04T15:05:43.899793",
     "exception": false,
     "start_time": "2024-11-04T15:05:43.863075",
     "status": "completed"
    },
    "tags": []
   },
   "outputs": [
    {
     "name": "stdout",
     "output_type": "stream",
     "text": [
      "\n",
      "Summary statistics for object columns:\n",
      "Country:\n",
      "count         157\n",
      "unique        157\n",
      "top       Denmark\n",
      "freq            1\n",
      "Name: Country, dtype: object\n",
      "Region:\n",
      "count                    157\n",
      "unique                    10\n",
      "top       Sub-Saharan Africa\n",
      "freq                      38\n",
      "Name: Region, dtype: object\n",
      "Upper Confidence Interval:\n",
      "count       155\n",
      "unique      152\n",
      "top       5.923\n",
      "freq          2\n",
      "Name: Upper Confidence Interval, dtype: object\n",
      "Economy (GDP per Capita):\n",
      "count         156\n",
      "unique        156\n",
      "top       1.44178\n",
      "freq            1\n",
      "Name: Economy (GDP per Capita), dtype: object\n",
      "Health (Life Expectancy):\n",
      "count         155\n",
      "unique        154\n",
      "top       0.62994\n",
      "freq            2\n",
      "Name: Health (Life Expectancy), dtype: object\n",
      "Freedom:\n",
      "count         157\n",
      "unique        157\n",
      "top       0.57941\n",
      "freq            1\n",
      "Name: Freedom, dtype: object\n"
     ]
    }
   ],
   "source": [
    "# Get the summary statistics for object columns\n",
    "object_cols = df.select_dtypes(include=['object']).columns\n",
    "print(\"\\nSummary statistics for object columns:\")\n",
    "for col in object_cols:\n",
    "    print(f\"{col}:\")\n",
    "    print(df[col].describe())"
   ]
  },
  {
   "cell_type": "code",
   "execution_count": 6,
   "id": "b5ce0ed3",
   "metadata": {
    "execution": {
     "iopub.execute_input": "2024-11-04T15:05:43.919169Z",
     "iopub.status.busy": "2024-11-04T15:05:43.918694Z",
     "iopub.status.idle": "2024-11-04T15:05:43.925745Z",
     "shell.execute_reply": "2024-11-04T15:05:43.924580Z"
    },
    "papermill": {
     "duration": 0.019732,
     "end_time": "2024-11-04T15:05:43.928345",
     "exception": false,
     "start_time": "2024-11-04T15:05:43.908613",
     "status": "completed"
    },
    "tags": []
   },
   "outputs": [
    {
     "name": "stdout",
     "output_type": "stream",
     "text": [
      "Column 'Country' has incorrect data type. Expected int64 or float64, got object\n",
      "Column 'Region' has incorrect data type. Expected int64 or float64, got object\n",
      "Column 'Upper Confidence Interval' has incorrect data type. Expected int64 or float64, got object\n",
      "Column 'Economy (GDP per Capita)' has incorrect data type. Expected int64 or float64, got object\n",
      "Column 'Health (Life Expectancy)' has incorrect data type. Expected int64 or float64, got object\n",
      "Column 'Freedom' has incorrect data type. Expected int64 or float64, got object\n"
     ]
    }
   ],
   "source": [
    "# Check if the data types are correct\n",
    "for col in df.columns:\n",
    "    if df[col].dtype not in ['int64', 'float64']:\n",
    "        print(f\"Column '{col}' has incorrect data type. Expected int64 or float64, got {df[col].dtype}\")"
   ]
  },
  {
   "cell_type": "code",
   "execution_count": 7,
   "id": "dd6a2f70",
   "metadata": {
    "execution": {
     "iopub.execute_input": "2024-11-04T15:05:43.947941Z",
     "iopub.status.busy": "2024-11-04T15:05:43.947500Z",
     "iopub.status.idle": "2024-11-04T15:05:43.968800Z",
     "shell.execute_reply": "2024-11-04T15:05:43.967488Z"
    },
    "papermill": {
     "duration": 0.034255,
     "end_time": "2024-11-04T15:05:43.971754",
     "exception": false,
     "start_time": "2024-11-04T15:05:43.937499",
     "status": "completed"
    },
    "tags": []
   },
   "outputs": [
    {
     "name": "stdout",
     "output_type": "stream",
     "text": [
      "columns Country\n",
      "0      False\n",
      "1      False\n",
      "2      False\n",
      "3      False\n",
      "4      False\n",
      "       ...  \n",
      "152    False\n",
      "153    False\n",
      "154    False\n",
      "155    False\n",
      "156    False\n",
      "Name: Country, Length: 157, dtype: bool\n",
      "columns Region\n",
      "0      False\n",
      "1      False\n",
      "2      False\n",
      "3      False\n",
      "4      False\n",
      "       ...  \n",
      "152    False\n",
      "153    False\n",
      "154    False\n",
      "155    False\n",
      "156    False\n",
      "Name: Region, Length: 157, dtype: bool\n",
      "columns Upper Confidence Interval\n",
      "0      False\n",
      "1      False\n",
      "2      False\n",
      "3      False\n",
      "4      False\n",
      "       ...  \n",
      "152    False\n",
      "153    False\n",
      "154    False\n",
      "155    False\n",
      "156    False\n",
      "Name: Upper Confidence Interval, Length: 157, dtype: bool\n",
      "columns Economy (GDP per Capita)\n",
      "0      False\n",
      "1      False\n",
      "2      False\n",
      "3      False\n",
      "4      False\n",
      "       ...  \n",
      "152    False\n",
      "153    False\n",
      "154    False\n",
      "155    False\n",
      "156    False\n",
      "Name: Economy (GDP per Capita), Length: 157, dtype: bool\n",
      "columns Health (Life Expectancy)\n",
      "0      False\n",
      "1      False\n",
      "2      False\n",
      "3      False\n",
      "4      False\n",
      "       ...  \n",
      "152    False\n",
      "153    False\n",
      "154    False\n",
      "155    False\n",
      "156    False\n",
      "Name: Health (Life Expectancy), Length: 157, dtype: bool\n",
      "columns Freedom\n",
      "0      False\n",
      "1      False\n",
      "2      False\n",
      "3      False\n",
      "4      False\n",
      "       ...  \n",
      "152    False\n",
      "153    False\n",
      "154    False\n",
      "155    False\n",
      "156    False\n",
      "Name: Freedom, Length: 157, dtype: bool\n"
     ]
    }
   ],
   "source": [
    "# Remove leading and trailing whitespaces from the values in a column\n",
    "for col in df.columns:\n",
    "    if df[col].dtype not in ['int64','float64']:\n",
    "        print('columns', col)\n",
    "        df[col] = df[col].str.strip()\n",
    "        has_trailing_spaces = df[col] != df[col].str.strip()\n",
    "        print(has_trailing_spaces)"
   ]
  },
  {
   "cell_type": "code",
   "execution_count": 8,
   "id": "4b871ed2",
   "metadata": {
    "execution": {
     "iopub.execute_input": "2024-11-04T15:05:43.992238Z",
     "iopub.status.busy": "2024-11-04T15:05:43.991765Z",
     "iopub.status.idle": "2024-11-04T15:05:43.999077Z",
     "shell.execute_reply": "2024-11-04T15:05:43.998018Z"
    },
    "papermill": {
     "duration": 0.021042,
     "end_time": "2024-11-04T15:05:44.001881",
     "exception": false,
     "start_time": "2024-11-04T15:05:43.980839",
     "status": "completed"
    },
    "tags": []
   },
   "outputs": [
    {
     "name": "stdout",
     "output_type": "stream",
     "text": [
      "Country                          0\n",
      "Region                           0\n",
      "Happiness Rank                   0\n",
      "Happiness Score                  0\n",
      "Lower Confidence Interval        4\n",
      "Upper Confidence Interval        2\n",
      "Economy (GDP per Capita)         1\n",
      "Family                           0\n",
      "Health (Life Expectancy)         2\n",
      "Freedom                          0\n",
      "Trust (Government Corruption)    0\n",
      "Generosity                       0\n",
      "Dystopia Residual                0\n",
      "dtype: int64\n"
     ]
    }
   ],
   "source": [
    "# Identify the columns of a data frame with missing values.\n",
    "# Print the columns with missing values\n",
    "print(df.isnull().sum())"
   ]
  },
  {
   "cell_type": "code",
   "execution_count": 9,
   "id": "c7fe131a",
   "metadata": {
    "execution": {
     "iopub.execute_input": "2024-11-04T15:05:44.022113Z",
     "iopub.status.busy": "2024-11-04T15:05:44.021225Z",
     "iopub.status.idle": "2024-11-04T15:05:44.040686Z",
     "shell.execute_reply": "2024-11-04T15:05:44.039600Z"
    },
    "papermill": {
     "duration": 0.032509,
     "end_time": "2024-11-04T15:05:44.043361",
     "exception": false,
     "start_time": "2024-11-04T15:05:44.010852",
     "status": "completed"
    },
    "tags": []
   },
   "outputs": [
    {
     "name": "stdout",
     "output_type": "stream",
     "text": [
      "           Country  Lower Confidence Interval Upper Confidence Interval  \\\n",
      "9           Sweden                      7.227                       NaN   \n",
      "12   United States                      7.020                     7.188   \n",
      "14     Puerto Rico                        NaN                     7.284   \n",
      "36           Spain                        NaN                     6.434   \n",
      "41         Bahrain                      6.128                     6.308   \n",
      "44        Slovakia                      5.996                      6.16   \n",
      "63            Peru                        NaN                     5.839   \n",
      "69        Paraguay                      5.453                       NaN   \n",
      "110   Sierra Leone                        NaN                     4.765   \n",
      "\n",
      "    Economy (GDP per Capita) Health (Life Expectancy)  \n",
      "9                    1.45181                  0.83121  \n",
      "12                   1.50796                      NaN  \n",
      "14                   1.35943                  0.77758  \n",
      "36                   1.34253                  0.87896  \n",
      "41                       NaN                  0.65696  \n",
      "44                   1.27973                      NaN  \n",
      "63                   0.99602                  0.62994  \n",
      "69                   0.89373                  0.58295  \n",
      "110                  0.36485                        0  \n"
     ]
    }
   ],
   "source": [
    "# Select rows with any null values\n",
    "rows_with_nulls = df[df.isnull().any(axis=1)]\n",
    "#print(rows_with_nulls)\n",
    "print(rows_with_nulls[['Country','Lower Confidence Interval','Upper Confidence Interval','Economy (GDP per Capita)','Health (Life Expectancy)']])"
   ]
  },
  {
   "cell_type": "code",
   "execution_count": 10,
   "id": "65fe7a34",
   "metadata": {
    "execution": {
     "iopub.execute_input": "2024-11-04T15:05:44.063628Z",
     "iopub.status.busy": "2024-11-04T15:05:44.063179Z",
     "iopub.status.idle": "2024-11-04T15:05:44.081290Z",
     "shell.execute_reply": "2024-11-04T15:05:44.080008Z"
    },
    "papermill": {
     "duration": 0.03149,
     "end_time": "2024-11-04T15:05:44.084068",
     "exception": false,
     "start_time": "2024-11-04T15:05:44.052578",
     "status": "completed"
    },
    "tags": []
   },
   "outputs": [
    {
     "name": "stdout",
     "output_type": "stream",
     "text": [
      "Upper Confidence Interval object\n",
      "after change Upper Confidence Interval float64\n",
      "Economy (GDP per Capita) object\n",
      "after change Economy (GDP per Capita) float64\n",
      "Health (Life Expectancy) object\n",
      "after change Health (Life Expectancy) float64\n",
      "Freedom object\n",
      "after change Freedom float64\n"
     ]
    }
   ],
   "source": [
    "# Change the data type of the columns to appropriate type as per the latest version of pandas\n",
    "# Upper Confidence Interval, 'Economy (GDP per Capita)','Health (Life Expectancy)','Freedom' - has incorrect datatype\n",
    "cols = ['Upper Confidence Interval', 'Economy (GDP per Capita)','Health (Life Expectancy)','Freedom']\n",
    "for i in cols:\n",
    "    print(i,df[i].dtype)\n",
    "    #df[i] = df[i].astype('float')\n",
    "    df[i] = df[i].apply(pd.to_numeric,errors='coerce')\n",
    "    print('after change',i,df[i].dtype)"
   ]
  },
  {
   "cell_type": "code",
   "execution_count": 11,
   "id": "6bdabb82",
   "metadata": {
    "execution": {
     "iopub.execute_input": "2024-11-04T15:05:44.104972Z",
     "iopub.status.busy": "2024-11-04T15:05:44.104541Z",
     "iopub.status.idle": "2024-11-04T15:05:44.114916Z",
     "shell.execute_reply": "2024-11-04T15:05:44.113730Z"
    },
    "papermill": {
     "duration": 0.023561,
     "end_time": "2024-11-04T15:05:44.117132",
     "exception": false,
     "start_time": "2024-11-04T15:05:44.093571",
     "status": "completed"
    },
    "tags": []
   },
   "outputs": [],
   "source": [
    "#Replace the missing values thus identified with mean values of the column.\n",
    "# Replace missing values with mean values\n",
    "df['Lower Confidence Interval'] = df['Lower Confidence Interval'].fillna(df['Lower Confidence Interval'].mean())\n",
    "df['Upper Confidence Interval'] = df['Upper Confidence Interval'].fillna(df['Upper Confidence Interval'].mean())\n",
    "df['Economy (GDP per Capita)'] = df['Economy (GDP per Capita)'].fillna(df['Economy (GDP per Capita)'].mean())\n",
    "df['Health (Life Expectancy)'] = df['Health (Life Expectancy)'].fillna(df['Health (Life Expectancy)'].mean())\n",
    "df['Freedom'] = df['Freedom'].fillna(df['Freedom'].mean())"
   ]
  },
  {
   "cell_type": "code",
   "execution_count": 12,
   "id": "83fcb6da",
   "metadata": {
    "execution": {
     "iopub.execute_input": "2024-11-04T15:05:44.137287Z",
     "iopub.status.busy": "2024-11-04T15:05:44.136845Z",
     "iopub.status.idle": "2024-11-04T15:05:44.147869Z",
     "shell.execute_reply": "2024-11-04T15:05:44.146475Z"
    },
    "papermill": {
     "duration": 0.023962,
     "end_time": "2024-11-04T15:05:44.150215",
     "exception": false,
     "start_time": "2024-11-04T15:05:44.126253",
     "status": "completed"
    },
    "tags": []
   },
   "outputs": [
    {
     "name": "stdout",
     "output_type": "stream",
     "text": [
      "Empty DataFrame\n",
      "Columns: [Country, Region, Happiness Rank, Happiness Score, Lower Confidence Interval, Upper Confidence Interval, Economy (GDP per Capita), Family, Health (Life Expectancy), Freedom, Trust (Government Corruption), Generosity, Dystopia Residual]\n",
      "Index: []\n",
      "Empty DataFrame\n",
      "Columns: [Country, Lower Confidence Interval, Upper Confidence Interval, Economy (GDP per Capita), Health (Life Expectancy)]\n",
      "Index: []\n"
     ]
    }
   ],
   "source": [
    "# Select rows with any null values again to check\n",
    "rows_with_nulls = df[df.isnull().any(axis=1)]\n",
    "print(rows_with_nulls)\n",
    "print(rows_with_nulls[['Country','Lower Confidence Interval','Upper Confidence Interval','Economy (GDP per Capita)','Health (Life Expectancy)']])"
   ]
  },
  {
   "cell_type": "code",
   "execution_count": 13,
   "id": "f9d0f96d",
   "metadata": {
    "execution": {
     "iopub.execute_input": "2024-11-04T15:05:44.170919Z",
     "iopub.status.busy": "2024-11-04T15:05:44.170320Z",
     "iopub.status.idle": "2024-11-04T15:05:44.178161Z",
     "shell.execute_reply": "2024-11-04T15:05:44.177020Z"
    },
    "papermill": {
     "duration": 0.02081,
     "end_time": "2024-11-04T15:05:44.180452",
     "exception": false,
     "start_time": "2024-11-04T15:05:44.159642",
     "status": "completed"
    },
    "tags": []
   },
   "outputs": [
    {
     "name": "stdout",
     "output_type": "stream",
     "text": [
      "Country                          0\n",
      "Region                           0\n",
      "Happiness Rank                   0\n",
      "Happiness Score                  0\n",
      "Lower Confidence Interval        0\n",
      "Upper Confidence Interval        0\n",
      "Economy (GDP per Capita)         0\n",
      "Family                           0\n",
      "Health (Life Expectancy)         0\n",
      "Freedom                          0\n",
      "Trust (Government Corruption)    0\n",
      "Generosity                       0\n",
      "Dystopia Residual                0\n",
      "dtype: int64\n"
     ]
    }
   ],
   "source": [
    "# Print the columns with missing values - confirmation\n",
    "print(df.isnull().sum())"
   ]
  },
  {
   "cell_type": "markdown",
   "id": "d487d895",
   "metadata": {
    "papermill": {
     "duration": 0.009187,
     "end_time": "2024-11-04T15:05:44.199362",
     "exception": false,
     "start_time": "2024-11-04T15:05:44.190175",
     "status": "completed"
    },
    "tags": []
   },
   "source": [
    "## Exploratory Data Analysis"
   ]
  },
  {
   "cell_type": "code",
   "execution_count": 14,
   "id": "345942a2",
   "metadata": {
    "execution": {
     "iopub.execute_input": "2024-11-04T15:05:44.221319Z",
     "iopub.status.busy": "2024-11-04T15:05:44.219930Z",
     "iopub.status.idle": "2024-11-04T15:05:46.389812Z",
     "shell.execute_reply": "2024-11-04T15:05:46.388600Z"
    },
    "papermill": {
     "duration": 2.183634,
     "end_time": "2024-11-04T15:05:46.392269",
     "exception": false,
     "start_time": "2024-11-04T15:05:44.208635",
     "status": "completed"
    },
    "tags": []
   },
   "outputs": [
    {
     "name": "stdout",
     "output_type": "stream",
     "text": [
      "                 Country                 Parameter     Value\n",
      "0                  Qatar  Economy (GDP per Capita)  1.824270\n",
      "1             Luxembourg  Economy (GDP per Capita)  1.697520\n",
      "2              Singapore  Economy (GDP per Capita)  1.645550\n",
      "3                 Kuwait  Economy (GDP per Capita)  1.617140\n",
      "4                 Norway  Economy (GDP per Capita)  1.577440\n",
      "5   United Arab Emirates  Economy (GDP per Capita)  1.573520\n",
      "6            Switzerland  Economy (GDP per Capita)  1.527330\n",
      "7              Hong Kong  Economy (GDP per Capita)  1.510700\n",
      "8          United States  Economy (GDP per Capita)  1.507960\n",
      "9           Saudi Arabia  Economy (GDP per Capita)  1.489530\n",
      "10                 Qatar  Health (Life Expectancy)  0.717230\n",
      "11            Luxembourg  Health (Life Expectancy)  0.845420\n",
      "12             Singapore  Health (Life Expectancy)  0.947190\n",
      "13                Kuwait  Health (Life Expectancy)  0.635690\n",
      "14                Norway  Health (Life Expectancy)  0.795790\n",
      "15  United Arab Emirates  Health (Life Expectancy)  0.729930\n",
      "16           Switzerland  Health (Life Expectancy)  0.863030\n",
      "17             Hong Kong  Health (Life Expectancy)  0.952770\n",
      "18         United States  Health (Life Expectancy)  0.553342\n",
      "19          Saudi Arabia  Health (Life Expectancy)  0.592670\n"
     ]
    },
    {
     "data": {
      "text/html": [
       "        <script type=\"text/javascript\">\n",
       "        window.PlotlyConfig = {MathJaxConfig: 'local'};\n",
       "        if (window.MathJax && window.MathJax.Hub && window.MathJax.Hub.Config) {window.MathJax.Hub.Config({SVG: {font: \"STIX-Web\"}});}\n",
       "        if (typeof require !== 'undefined') {\n",
       "        require.undef(\"plotly\");\n",
       "        requirejs.config({\n",
       "            paths: {\n",
       "                'plotly': ['https://cdn.plot.ly/plotly-2.32.0.min']\n",
       "            }\n",
       "        });\n",
       "        require(['plotly'], function(Plotly) {\n",
       "            window._Plotly = Plotly;\n",
       "        });\n",
       "        }\n",
       "        </script>\n",
       "        "
      ]
     },
     "metadata": {},
     "output_type": "display_data"
    },
    {
     "data": {
      "text/html": [
       "<div>                            <div id=\"b57b61b9-6c05-47b9-a99a-077d857e14b7\" class=\"plotly-graph-div\" style=\"height:600px; width:800px;\"></div>            <script type=\"text/javascript\">                require([\"plotly\"], function(Plotly) {                    window.PLOTLYENV=window.PLOTLYENV || {};                                    if (document.getElementById(\"b57b61b9-6c05-47b9-a99a-077d857e14b7\")) {                    Plotly.newPlot(                        \"b57b61b9-6c05-47b9-a99a-077d857e14b7\",                        [{\"alignmentgroup\":\"True\",\"hovertemplate\":\"Parameter=Economy (GDP per Capita)\\u003cbr\\u003eCountry=%{x}\\u003cbr\\u003eValue=%{y}\\u003cextra\\u003e\\u003c\\u002fextra\\u003e\",\"legendgroup\":\"Economy (GDP per Capita)\",\"marker\":{\"color\":\"#636efa\",\"pattern\":{\"shape\":\"\"}},\"name\":\"Economy (GDP per Capita)\",\"offsetgroup\":\"Economy (GDP per Capita)\",\"orientation\":\"v\",\"showlegend\":true,\"textposition\":\"auto\",\"x\":[\"Qatar\",\"Luxembourg\",\"Singapore\",\"Kuwait\",\"Norway\",\"United Arab Emirates\",\"Switzerland\",\"Hong Kong\",\"United States\",\"Saudi Arabia\"],\"xaxis\":\"x\",\"y\":[1.82427,1.69752,1.64555,1.61714,1.57744,1.57352,1.52733,1.5107,1.50796,1.48953],\"yaxis\":\"y\",\"type\":\"bar\"},{\"alignmentgroup\":\"True\",\"hovertemplate\":\"Parameter=Health (Life Expectancy)\\u003cbr\\u003eCountry=%{x}\\u003cbr\\u003eValue=%{y}\\u003cextra\\u003e\\u003c\\u002fextra\\u003e\",\"legendgroup\":\"Health (Life Expectancy)\",\"marker\":{\"color\":\"#EF553B\",\"pattern\":{\"shape\":\"\"}},\"name\":\"Health (Life Expectancy)\",\"offsetgroup\":\"Health (Life Expectancy)\",\"orientation\":\"v\",\"showlegend\":true,\"textposition\":\"auto\",\"x\":[\"Qatar\",\"Luxembourg\",\"Singapore\",\"Kuwait\",\"Norway\",\"United Arab Emirates\",\"Switzerland\",\"Hong Kong\",\"United States\",\"Saudi Arabia\"],\"xaxis\":\"x\",\"y\":[0.71723,0.84542,0.94719,0.63569,0.79579,0.72993,0.86303,0.95277,0.5533422727272727,0.59267],\"yaxis\":\"y\",\"type\":\"bar\"}],                        {\"template\":{\"data\":{\"histogram2dcontour\":[{\"type\":\"histogram2dcontour\",\"colorbar\":{\"outlinewidth\":0,\"ticks\":\"\"},\"colorscale\":[[0.0,\"#0d0887\"],[0.1111111111111111,\"#46039f\"],[0.2222222222222222,\"#7201a8\"],[0.3333333333333333,\"#9c179e\"],[0.4444444444444444,\"#bd3786\"],[0.5555555555555556,\"#d8576b\"],[0.6666666666666666,\"#ed7953\"],[0.7777777777777778,\"#fb9f3a\"],[0.8888888888888888,\"#fdca26\"],[1.0,\"#f0f921\"]]}],\"choropleth\":[{\"type\":\"choropleth\",\"colorbar\":{\"outlinewidth\":0,\"ticks\":\"\"}}],\"histogram2d\":[{\"type\":\"histogram2d\",\"colorbar\":{\"outlinewidth\":0,\"ticks\":\"\"},\"colorscale\":[[0.0,\"#0d0887\"],[0.1111111111111111,\"#46039f\"],[0.2222222222222222,\"#7201a8\"],[0.3333333333333333,\"#9c179e\"],[0.4444444444444444,\"#bd3786\"],[0.5555555555555556,\"#d8576b\"],[0.6666666666666666,\"#ed7953\"],[0.7777777777777778,\"#fb9f3a\"],[0.8888888888888888,\"#fdca26\"],[1.0,\"#f0f921\"]]}],\"heatmap\":[{\"type\":\"heatmap\",\"colorbar\":{\"outlinewidth\":0,\"ticks\":\"\"},\"colorscale\":[[0.0,\"#0d0887\"],[0.1111111111111111,\"#46039f\"],[0.2222222222222222,\"#7201a8\"],[0.3333333333333333,\"#9c179e\"],[0.4444444444444444,\"#bd3786\"],[0.5555555555555556,\"#d8576b\"],[0.6666666666666666,\"#ed7953\"],[0.7777777777777778,\"#fb9f3a\"],[0.8888888888888888,\"#fdca26\"],[1.0,\"#f0f921\"]]}],\"heatmapgl\":[{\"type\":\"heatmapgl\",\"colorbar\":{\"outlinewidth\":0,\"ticks\":\"\"},\"colorscale\":[[0.0,\"#0d0887\"],[0.1111111111111111,\"#46039f\"],[0.2222222222222222,\"#7201a8\"],[0.3333333333333333,\"#9c179e\"],[0.4444444444444444,\"#bd3786\"],[0.5555555555555556,\"#d8576b\"],[0.6666666666666666,\"#ed7953\"],[0.7777777777777778,\"#fb9f3a\"],[0.8888888888888888,\"#fdca26\"],[1.0,\"#f0f921\"]]}],\"contourcarpet\":[{\"type\":\"contourcarpet\",\"colorbar\":{\"outlinewidth\":0,\"ticks\":\"\"}}],\"contour\":[{\"type\":\"contour\",\"colorbar\":{\"outlinewidth\":0,\"ticks\":\"\"},\"colorscale\":[[0.0,\"#0d0887\"],[0.1111111111111111,\"#46039f\"],[0.2222222222222222,\"#7201a8\"],[0.3333333333333333,\"#9c179e\"],[0.4444444444444444,\"#bd3786\"],[0.5555555555555556,\"#d8576b\"],[0.6666666666666666,\"#ed7953\"],[0.7777777777777778,\"#fb9f3a\"],[0.8888888888888888,\"#fdca26\"],[1.0,\"#f0f921\"]]}],\"surface\":[{\"type\":\"surface\",\"colorbar\":{\"outlinewidth\":0,\"ticks\":\"\"},\"colorscale\":[[0.0,\"#0d0887\"],[0.1111111111111111,\"#46039f\"],[0.2222222222222222,\"#7201a8\"],[0.3333333333333333,\"#9c179e\"],[0.4444444444444444,\"#bd3786\"],[0.5555555555555556,\"#d8576b\"],[0.6666666666666666,\"#ed7953\"],[0.7777777777777778,\"#fb9f3a\"],[0.8888888888888888,\"#fdca26\"],[1.0,\"#f0f921\"]]}],\"mesh3d\":[{\"type\":\"mesh3d\",\"colorbar\":{\"outlinewidth\":0,\"ticks\":\"\"}}],\"scatter\":[{\"fillpattern\":{\"fillmode\":\"overlay\",\"size\":10,\"solidity\":0.2},\"type\":\"scatter\"}],\"parcoords\":[{\"type\":\"parcoords\",\"line\":{\"colorbar\":{\"outlinewidth\":0,\"ticks\":\"\"}}}],\"scatterpolargl\":[{\"type\":\"scatterpolargl\",\"marker\":{\"colorbar\":{\"outlinewidth\":0,\"ticks\":\"\"}}}],\"bar\":[{\"error_x\":{\"color\":\"#2a3f5f\"},\"error_y\":{\"color\":\"#2a3f5f\"},\"marker\":{\"line\":{\"color\":\"#E5ECF6\",\"width\":0.5},\"pattern\":{\"fillmode\":\"overlay\",\"size\":10,\"solidity\":0.2}},\"type\":\"bar\"}],\"scattergeo\":[{\"type\":\"scattergeo\",\"marker\":{\"colorbar\":{\"outlinewidth\":0,\"ticks\":\"\"}}}],\"scatterpolar\":[{\"type\":\"scatterpolar\",\"marker\":{\"colorbar\":{\"outlinewidth\":0,\"ticks\":\"\"}}}],\"histogram\":[{\"marker\":{\"pattern\":{\"fillmode\":\"overlay\",\"size\":10,\"solidity\":0.2}},\"type\":\"histogram\"}],\"scattergl\":[{\"type\":\"scattergl\",\"marker\":{\"colorbar\":{\"outlinewidth\":0,\"ticks\":\"\"}}}],\"scatter3d\":[{\"type\":\"scatter3d\",\"line\":{\"colorbar\":{\"outlinewidth\":0,\"ticks\":\"\"}},\"marker\":{\"colorbar\":{\"outlinewidth\":0,\"ticks\":\"\"}}}],\"scattermapbox\":[{\"type\":\"scattermapbox\",\"marker\":{\"colorbar\":{\"outlinewidth\":0,\"ticks\":\"\"}}}],\"scatterternary\":[{\"type\":\"scatterternary\",\"marker\":{\"colorbar\":{\"outlinewidth\":0,\"ticks\":\"\"}}}],\"scattercarpet\":[{\"type\":\"scattercarpet\",\"marker\":{\"colorbar\":{\"outlinewidth\":0,\"ticks\":\"\"}}}],\"carpet\":[{\"aaxis\":{\"endlinecolor\":\"#2a3f5f\",\"gridcolor\":\"white\",\"linecolor\":\"white\",\"minorgridcolor\":\"white\",\"startlinecolor\":\"#2a3f5f\"},\"baxis\":{\"endlinecolor\":\"#2a3f5f\",\"gridcolor\":\"white\",\"linecolor\":\"white\",\"minorgridcolor\":\"white\",\"startlinecolor\":\"#2a3f5f\"},\"type\":\"carpet\"}],\"table\":[{\"cells\":{\"fill\":{\"color\":\"#EBF0F8\"},\"line\":{\"color\":\"white\"}},\"header\":{\"fill\":{\"color\":\"#C8D4E3\"},\"line\":{\"color\":\"white\"}},\"type\":\"table\"}],\"barpolar\":[{\"marker\":{\"line\":{\"color\":\"#E5ECF6\",\"width\":0.5},\"pattern\":{\"fillmode\":\"overlay\",\"size\":10,\"solidity\":0.2}},\"type\":\"barpolar\"}],\"pie\":[{\"automargin\":true,\"type\":\"pie\"}]},\"layout\":{\"autotypenumbers\":\"strict\",\"colorway\":[\"#636efa\",\"#EF553B\",\"#00cc96\",\"#ab63fa\",\"#FFA15A\",\"#19d3f3\",\"#FF6692\",\"#B6E880\",\"#FF97FF\",\"#FECB52\"],\"font\":{\"color\":\"#2a3f5f\"},\"hovermode\":\"closest\",\"hoverlabel\":{\"align\":\"left\"},\"paper_bgcolor\":\"white\",\"plot_bgcolor\":\"#E5ECF6\",\"polar\":{\"bgcolor\":\"#E5ECF6\",\"angularaxis\":{\"gridcolor\":\"white\",\"linecolor\":\"white\",\"ticks\":\"\"},\"radialaxis\":{\"gridcolor\":\"white\",\"linecolor\":\"white\",\"ticks\":\"\"}},\"ternary\":{\"bgcolor\":\"#E5ECF6\",\"aaxis\":{\"gridcolor\":\"white\",\"linecolor\":\"white\",\"ticks\":\"\"},\"baxis\":{\"gridcolor\":\"white\",\"linecolor\":\"white\",\"ticks\":\"\"},\"caxis\":{\"gridcolor\":\"white\",\"linecolor\":\"white\",\"ticks\":\"\"}},\"coloraxis\":{\"colorbar\":{\"outlinewidth\":0,\"ticks\":\"\"}},\"colorscale\":{\"sequential\":[[0.0,\"#0d0887\"],[0.1111111111111111,\"#46039f\"],[0.2222222222222222,\"#7201a8\"],[0.3333333333333333,\"#9c179e\"],[0.4444444444444444,\"#bd3786\"],[0.5555555555555556,\"#d8576b\"],[0.6666666666666666,\"#ed7953\"],[0.7777777777777778,\"#fb9f3a\"],[0.8888888888888888,\"#fdca26\"],[1.0,\"#f0f921\"]],\"sequentialminus\":[[0.0,\"#0d0887\"],[0.1111111111111111,\"#46039f\"],[0.2222222222222222,\"#7201a8\"],[0.3333333333333333,\"#9c179e\"],[0.4444444444444444,\"#bd3786\"],[0.5555555555555556,\"#d8576b\"],[0.6666666666666666,\"#ed7953\"],[0.7777777777777778,\"#fb9f3a\"],[0.8888888888888888,\"#fdca26\"],[1.0,\"#f0f921\"]],\"diverging\":[[0,\"#8e0152\"],[0.1,\"#c51b7d\"],[0.2,\"#de77ae\"],[0.3,\"#f1b6da\"],[0.4,\"#fde0ef\"],[0.5,\"#f7f7f7\"],[0.6,\"#e6f5d0\"],[0.7,\"#b8e186\"],[0.8,\"#7fbc41\"],[0.9,\"#4d9221\"],[1,\"#276419\"]]},\"xaxis\":{\"gridcolor\":\"white\",\"linecolor\":\"white\",\"ticks\":\"\",\"title\":{\"standoff\":15},\"zerolinecolor\":\"white\",\"automargin\":true,\"zerolinewidth\":2},\"yaxis\":{\"gridcolor\":\"white\",\"linecolor\":\"white\",\"ticks\":\"\",\"title\":{\"standoff\":15},\"zerolinecolor\":\"white\",\"automargin\":true,\"zerolinewidth\":2},\"scene\":{\"xaxis\":{\"backgroundcolor\":\"#E5ECF6\",\"gridcolor\":\"white\",\"linecolor\":\"white\",\"showbackground\":true,\"ticks\":\"\",\"zerolinecolor\":\"white\",\"gridwidth\":2},\"yaxis\":{\"backgroundcolor\":\"#E5ECF6\",\"gridcolor\":\"white\",\"linecolor\":\"white\",\"showbackground\":true,\"ticks\":\"\",\"zerolinecolor\":\"white\",\"gridwidth\":2},\"zaxis\":{\"backgroundcolor\":\"#E5ECF6\",\"gridcolor\":\"white\",\"linecolor\":\"white\",\"showbackground\":true,\"ticks\":\"\",\"zerolinecolor\":\"white\",\"gridwidth\":2}},\"shapedefaults\":{\"line\":{\"color\":\"#2a3f5f\"}},\"annotationdefaults\":{\"arrowcolor\":\"#2a3f5f\",\"arrowhead\":0,\"arrowwidth\":1},\"geo\":{\"bgcolor\":\"white\",\"landcolor\":\"#E5ECF6\",\"subunitcolor\":\"white\",\"showland\":true,\"showlakes\":true,\"lakecolor\":\"white\"},\"title\":{\"x\":0.05},\"mapbox\":{\"style\":\"light\"}}},\"xaxis\":{\"anchor\":\"y\",\"domain\":[0.0,1.0],\"title\":{\"text\":\"Country\"}},\"yaxis\":{\"anchor\":\"x\",\"domain\":[0.0,1.0],\"title\":{\"text\":\"Value\"}},\"legend\":{\"title\":{\"text\":\"Parameter\"},\"tracegroupgap\":0},\"title\":{\"text\":\"Top 10 Countries by GDP, and Health Life Expectancy\"},\"barmode\":\"relative\",\"height\":600,\"width\":800},                        {\"responsive\": true}                    ).then(function(){\n",
       "                            \n",
       "var gd = document.getElementById('b57b61b9-6c05-47b9-a99a-077d857e14b7');\n",
       "var x = new MutationObserver(function (mutations, observer) {{\n",
       "        var display = window.getComputedStyle(gd).display;\n",
       "        if (!display || display === 'none') {{\n",
       "            console.log([gd, 'removed!']);\n",
       "            Plotly.purge(gd);\n",
       "            observer.disconnect();\n",
       "        }}\n",
       "}});\n",
       "\n",
       "// Listen for the removal of the full notebook cells\n",
       "var notebookContainer = gd.closest('#notebook-container');\n",
       "if (notebookContainer) {{\n",
       "    x.observe(notebookContainer, {childList: true});\n",
       "}}\n",
       "\n",
       "// Listen for the clearing of the current output cell\n",
       "var outputEl = gd.closest('.output');\n",
       "if (outputEl) {{\n",
       "    x.observe(outputEl, {childList: true});\n",
       "}}\n",
       "\n",
       "                        })                };                });            </script>        </div>"
      ]
     },
     "metadata": {},
     "output_type": "display_data"
    }
   ],
   "source": [
    "# identify the GDP per capita and Healthy Life Expectancy of the top 10 countries and create a bar chart named fig1 to show the GDP per capita and Healthy Life Expectancy of these top 10 countries using plotly.\n",
    "# Select the top 10 countries\n",
    "\n",
    "top_10_countries = df.nlargest(10, 'Economy (GDP per Capita)')\n",
    "\n",
    "# Melt the DataFrame to have a long format for the three parameters\n",
    "df_melted = top_10_countries.melt(id_vars='Country', \n",
    "                                    value_vars=['Economy (GDP per Capita)', 'Health (Life Expectancy)'], \n",
    "                                    var_name='Parameter', \n",
    "                                    value_name='Value')\n",
    "\n",
    "print(df_melted)\n",
    "\n",
    "# Combined bar chart to show GDP per capita and Healthy Life Expectancy of the top 10 countries\n",
    "fig1 = px.bar(df_melted, \n",
    "                      x='Country', \n",
    "                      y='Value', \n",
    "                      color='Parameter', \n",
    "                      title='Top 10 Countries by GDP, and Health Life Expectancy',\n",
    "                      width=800, \n",
    "                      height=600)\n",
    "fig1.show()\n"
   ]
  },
  {
   "cell_type": "code",
   "execution_count": 15,
   "id": "f265b709",
   "metadata": {
    "execution": {
     "iopub.execute_input": "2024-11-04T15:05:46.414419Z",
     "iopub.status.busy": "2024-11-04T15:05:46.413957Z",
     "iopub.status.idle": "2024-11-04T15:05:46.504084Z",
     "shell.execute_reply": "2024-11-04T15:05:46.502996Z"
    },
    "papermill": {
     "duration": 0.10405,
     "end_time": "2024-11-04T15:05:46.506683",
     "exception": false,
     "start_time": "2024-11-04T15:05:46.402633",
     "status": "completed"
    },
    "tags": []
   },
   "outputs": [
    {
     "data": {
      "text/html": [
       "<div>                            <div id=\"f35f0d0a-68a1-48a6-b73c-9987dd7b662d\" class=\"plotly-graph-div\" style=\"height:600px; width:800px;\"></div>            <script type=\"text/javascript\">                require([\"plotly\"], function(Plotly) {                    window.PLOTLYENV=window.PLOTLYENV || {};                                    if (document.getElementById(\"f35f0d0a-68a1-48a6-b73c-9987dd7b662d\")) {                    Plotly.newPlot(                        \"f35f0d0a-68a1-48a6-b73c-9987dd7b662d\",                        [{\"coloraxis\":\"coloraxis\",\"name\":\"0\",\"texttemplate\":\"%{z}\",\"x\":[\"Economy (GDP per Capita)\",\"Health (Life Expectancy)\",\"Freedom\",\"Trust (Government Corruption)\",\"Generosity\",\"Happiness Score\"],\"y\":[\"Economy (GDP per Capita)\",\"Health (Life Expectancy)\",\"Freedom\",\"Trust (Government Corruption)\",\"Generosity\",\"Happiness Score\"],\"z\":[[1.0,0.8256985541456067,0.3609980770935007,0.2860688986698786,-0.022071846978839856,0.7896246889690565],[0.8256985541456067,1.0,0.34802785316320745,0.26192787474087614,0.06976012664052986,0.7594712524031421],[0.3609980770935007,0.34802785316320745,1.0,0.502030463367597,0.3617916252586865,0.5668067435905342],[0.2860688986698786,0.26192787474087614,0.502030463367597,1.0,0.30592986119121796,0.40203224514729247],[-0.022071846978839856,0.06976012664052986,0.3617916252586865,0.30592986119121796,1.0,0.15684779640360774],[0.7896246889690565,0.7594712524031421,0.5668067435905342,0.40203224514729247,0.15684779640360774,1.0]],\"type\":\"heatmap\",\"xaxis\":\"x\",\"yaxis\":\"y\",\"hovertemplate\":\"x: %{x}\\u003cbr\\u003ey: %{y}\\u003cbr\\u003ecolor: %{z}\\u003cextra\\u003e\\u003c\\u002fextra\\u003e\"}],                        {\"template\":{\"data\":{\"histogram2dcontour\":[{\"type\":\"histogram2dcontour\",\"colorbar\":{\"outlinewidth\":0,\"ticks\":\"\"},\"colorscale\":[[0.0,\"#0d0887\"],[0.1111111111111111,\"#46039f\"],[0.2222222222222222,\"#7201a8\"],[0.3333333333333333,\"#9c179e\"],[0.4444444444444444,\"#bd3786\"],[0.5555555555555556,\"#d8576b\"],[0.6666666666666666,\"#ed7953\"],[0.7777777777777778,\"#fb9f3a\"],[0.8888888888888888,\"#fdca26\"],[1.0,\"#f0f921\"]]}],\"choropleth\":[{\"type\":\"choropleth\",\"colorbar\":{\"outlinewidth\":0,\"ticks\":\"\"}}],\"histogram2d\":[{\"type\":\"histogram2d\",\"colorbar\":{\"outlinewidth\":0,\"ticks\":\"\"},\"colorscale\":[[0.0,\"#0d0887\"],[0.1111111111111111,\"#46039f\"],[0.2222222222222222,\"#7201a8\"],[0.3333333333333333,\"#9c179e\"],[0.4444444444444444,\"#bd3786\"],[0.5555555555555556,\"#d8576b\"],[0.6666666666666666,\"#ed7953\"],[0.7777777777777778,\"#fb9f3a\"],[0.8888888888888888,\"#fdca26\"],[1.0,\"#f0f921\"]]}],\"heatmap\":[{\"type\":\"heatmap\",\"colorbar\":{\"outlinewidth\":0,\"ticks\":\"\"},\"colorscale\":[[0.0,\"#0d0887\"],[0.1111111111111111,\"#46039f\"],[0.2222222222222222,\"#7201a8\"],[0.3333333333333333,\"#9c179e\"],[0.4444444444444444,\"#bd3786\"],[0.5555555555555556,\"#d8576b\"],[0.6666666666666666,\"#ed7953\"],[0.7777777777777778,\"#fb9f3a\"],[0.8888888888888888,\"#fdca26\"],[1.0,\"#f0f921\"]]}],\"heatmapgl\":[{\"type\":\"heatmapgl\",\"colorbar\":{\"outlinewidth\":0,\"ticks\":\"\"},\"colorscale\":[[0.0,\"#0d0887\"],[0.1111111111111111,\"#46039f\"],[0.2222222222222222,\"#7201a8\"],[0.3333333333333333,\"#9c179e\"],[0.4444444444444444,\"#bd3786\"],[0.5555555555555556,\"#d8576b\"],[0.6666666666666666,\"#ed7953\"],[0.7777777777777778,\"#fb9f3a\"],[0.8888888888888888,\"#fdca26\"],[1.0,\"#f0f921\"]]}],\"contourcarpet\":[{\"type\":\"contourcarpet\",\"colorbar\":{\"outlinewidth\":0,\"ticks\":\"\"}}],\"contour\":[{\"type\":\"contour\",\"colorbar\":{\"outlinewidth\":0,\"ticks\":\"\"},\"colorscale\":[[0.0,\"#0d0887\"],[0.1111111111111111,\"#46039f\"],[0.2222222222222222,\"#7201a8\"],[0.3333333333333333,\"#9c179e\"],[0.4444444444444444,\"#bd3786\"],[0.5555555555555556,\"#d8576b\"],[0.6666666666666666,\"#ed7953\"],[0.7777777777777778,\"#fb9f3a\"],[0.8888888888888888,\"#fdca26\"],[1.0,\"#f0f921\"]]}],\"surface\":[{\"type\":\"surface\",\"colorbar\":{\"outlinewidth\":0,\"ticks\":\"\"},\"colorscale\":[[0.0,\"#0d0887\"],[0.1111111111111111,\"#46039f\"],[0.2222222222222222,\"#7201a8\"],[0.3333333333333333,\"#9c179e\"],[0.4444444444444444,\"#bd3786\"],[0.5555555555555556,\"#d8576b\"],[0.6666666666666666,\"#ed7953\"],[0.7777777777777778,\"#fb9f3a\"],[0.8888888888888888,\"#fdca26\"],[1.0,\"#f0f921\"]]}],\"mesh3d\":[{\"type\":\"mesh3d\",\"colorbar\":{\"outlinewidth\":0,\"ticks\":\"\"}}],\"scatter\":[{\"fillpattern\":{\"fillmode\":\"overlay\",\"size\":10,\"solidity\":0.2},\"type\":\"scatter\"}],\"parcoords\":[{\"type\":\"parcoords\",\"line\":{\"colorbar\":{\"outlinewidth\":0,\"ticks\":\"\"}}}],\"scatterpolargl\":[{\"type\":\"scatterpolargl\",\"marker\":{\"colorbar\":{\"outlinewidth\":0,\"ticks\":\"\"}}}],\"bar\":[{\"error_x\":{\"color\":\"#2a3f5f\"},\"error_y\":{\"color\":\"#2a3f5f\"},\"marker\":{\"line\":{\"color\":\"#E5ECF6\",\"width\":0.5},\"pattern\":{\"fillmode\":\"overlay\",\"size\":10,\"solidity\":0.2}},\"type\":\"bar\"}],\"scattergeo\":[{\"type\":\"scattergeo\",\"marker\":{\"colorbar\":{\"outlinewidth\":0,\"ticks\":\"\"}}}],\"scatterpolar\":[{\"type\":\"scatterpolar\",\"marker\":{\"colorbar\":{\"outlinewidth\":0,\"ticks\":\"\"}}}],\"histogram\":[{\"marker\":{\"pattern\":{\"fillmode\":\"overlay\",\"size\":10,\"solidity\":0.2}},\"type\":\"histogram\"}],\"scattergl\":[{\"type\":\"scattergl\",\"marker\":{\"colorbar\":{\"outlinewidth\":0,\"ticks\":\"\"}}}],\"scatter3d\":[{\"type\":\"scatter3d\",\"line\":{\"colorbar\":{\"outlinewidth\":0,\"ticks\":\"\"}},\"marker\":{\"colorbar\":{\"outlinewidth\":0,\"ticks\":\"\"}}}],\"scattermapbox\":[{\"type\":\"scattermapbox\",\"marker\":{\"colorbar\":{\"outlinewidth\":0,\"ticks\":\"\"}}}],\"scatterternary\":[{\"type\":\"scatterternary\",\"marker\":{\"colorbar\":{\"outlinewidth\":0,\"ticks\":\"\"}}}],\"scattercarpet\":[{\"type\":\"scattercarpet\",\"marker\":{\"colorbar\":{\"outlinewidth\":0,\"ticks\":\"\"}}}],\"carpet\":[{\"aaxis\":{\"endlinecolor\":\"#2a3f5f\",\"gridcolor\":\"white\",\"linecolor\":\"white\",\"minorgridcolor\":\"white\",\"startlinecolor\":\"#2a3f5f\"},\"baxis\":{\"endlinecolor\":\"#2a3f5f\",\"gridcolor\":\"white\",\"linecolor\":\"white\",\"minorgridcolor\":\"white\",\"startlinecolor\":\"#2a3f5f\"},\"type\":\"carpet\"}],\"table\":[{\"cells\":{\"fill\":{\"color\":\"#EBF0F8\"},\"line\":{\"color\":\"white\"}},\"header\":{\"fill\":{\"color\":\"#C8D4E3\"},\"line\":{\"color\":\"white\"}},\"type\":\"table\"}],\"barpolar\":[{\"marker\":{\"line\":{\"color\":\"#E5ECF6\",\"width\":0.5},\"pattern\":{\"fillmode\":\"overlay\",\"size\":10,\"solidity\":0.2}},\"type\":\"barpolar\"}],\"pie\":[{\"automargin\":true,\"type\":\"pie\"}]},\"layout\":{\"autotypenumbers\":\"strict\",\"colorway\":[\"#636efa\",\"#EF553B\",\"#00cc96\",\"#ab63fa\",\"#FFA15A\",\"#19d3f3\",\"#FF6692\",\"#B6E880\",\"#FF97FF\",\"#FECB52\"],\"font\":{\"color\":\"#2a3f5f\"},\"hovermode\":\"closest\",\"hoverlabel\":{\"align\":\"left\"},\"paper_bgcolor\":\"white\",\"plot_bgcolor\":\"#E5ECF6\",\"polar\":{\"bgcolor\":\"#E5ECF6\",\"angularaxis\":{\"gridcolor\":\"white\",\"linecolor\":\"white\",\"ticks\":\"\"},\"radialaxis\":{\"gridcolor\":\"white\",\"linecolor\":\"white\",\"ticks\":\"\"}},\"ternary\":{\"bgcolor\":\"#E5ECF6\",\"aaxis\":{\"gridcolor\":\"white\",\"linecolor\":\"white\",\"ticks\":\"\"},\"baxis\":{\"gridcolor\":\"white\",\"linecolor\":\"white\",\"ticks\":\"\"},\"caxis\":{\"gridcolor\":\"white\",\"linecolor\":\"white\",\"ticks\":\"\"}},\"coloraxis\":{\"colorbar\":{\"outlinewidth\":0,\"ticks\":\"\"}},\"colorscale\":{\"sequential\":[[0.0,\"#0d0887\"],[0.1111111111111111,\"#46039f\"],[0.2222222222222222,\"#7201a8\"],[0.3333333333333333,\"#9c179e\"],[0.4444444444444444,\"#bd3786\"],[0.5555555555555556,\"#d8576b\"],[0.6666666666666666,\"#ed7953\"],[0.7777777777777778,\"#fb9f3a\"],[0.8888888888888888,\"#fdca26\"],[1.0,\"#f0f921\"]],\"sequentialminus\":[[0.0,\"#0d0887\"],[0.1111111111111111,\"#46039f\"],[0.2222222222222222,\"#7201a8\"],[0.3333333333333333,\"#9c179e\"],[0.4444444444444444,\"#bd3786\"],[0.5555555555555556,\"#d8576b\"],[0.6666666666666666,\"#ed7953\"],[0.7777777777777778,\"#fb9f3a\"],[0.8888888888888888,\"#fdca26\"],[1.0,\"#f0f921\"]],\"diverging\":[[0,\"#8e0152\"],[0.1,\"#c51b7d\"],[0.2,\"#de77ae\"],[0.3,\"#f1b6da\"],[0.4,\"#fde0ef\"],[0.5,\"#f7f7f7\"],[0.6,\"#e6f5d0\"],[0.7,\"#b8e186\"],[0.8,\"#7fbc41\"],[0.9,\"#4d9221\"],[1,\"#276419\"]]},\"xaxis\":{\"gridcolor\":\"white\",\"linecolor\":\"white\",\"ticks\":\"\",\"title\":{\"standoff\":15},\"zerolinecolor\":\"white\",\"automargin\":true,\"zerolinewidth\":2},\"yaxis\":{\"gridcolor\":\"white\",\"linecolor\":\"white\",\"ticks\":\"\",\"title\":{\"standoff\":15},\"zerolinecolor\":\"white\",\"automargin\":true,\"zerolinewidth\":2},\"scene\":{\"xaxis\":{\"backgroundcolor\":\"#E5ECF6\",\"gridcolor\":\"white\",\"linecolor\":\"white\",\"showbackground\":true,\"ticks\":\"\",\"zerolinecolor\":\"white\",\"gridwidth\":2},\"yaxis\":{\"backgroundcolor\":\"#E5ECF6\",\"gridcolor\":\"white\",\"linecolor\":\"white\",\"showbackground\":true,\"ticks\":\"\",\"zerolinecolor\":\"white\",\"gridwidth\":2},\"zaxis\":{\"backgroundcolor\":\"#E5ECF6\",\"gridcolor\":\"white\",\"linecolor\":\"white\",\"showbackground\":true,\"ticks\":\"\",\"zerolinecolor\":\"white\",\"gridwidth\":2}},\"shapedefaults\":{\"line\":{\"color\":\"#2a3f5f\"}},\"annotationdefaults\":{\"arrowcolor\":\"#2a3f5f\",\"arrowhead\":0,\"arrowwidth\":1},\"geo\":{\"bgcolor\":\"white\",\"landcolor\":\"#E5ECF6\",\"subunitcolor\":\"white\",\"showland\":true,\"showlakes\":true,\"lakecolor\":\"white\"},\"title\":{\"x\":0.05},\"mapbox\":{\"style\":\"light\"}}},\"xaxis\":{\"anchor\":\"y\",\"domain\":[0.0,1.0],\"scaleanchor\":\"y\",\"constrain\":\"domain\"},\"yaxis\":{\"anchor\":\"x\",\"domain\":[0.0,1.0],\"autorange\":\"reversed\",\"constrain\":\"domain\"},\"coloraxis\":{\"colorscale\":[[0.0,\"#440154\"],[0.1111111111111111,\"#482878\"],[0.2222222222222222,\"#3e4989\"],[0.3333333333333333,\"#31688e\"],[0.4444444444444444,\"#26828e\"],[0.5555555555555556,\"#1f9e89\"],[0.6666666666666666,\"#35b779\"],[0.7777777777777778,\"#6ece58\"],[0.8888888888888888,\"#b5de2b\"],[1.0,\"#fde725\"]]},\"title\":{\"text\":\"Correlation Heatmap\"},\"height\":600,\"width\":800},                        {\"responsive\": true}                    ).then(function(){\n",
       "                            \n",
       "var gd = document.getElementById('f35f0d0a-68a1-48a6-b73c-9987dd7b662d');\n",
       "var x = new MutationObserver(function (mutations, observer) {{\n",
       "        var display = window.getComputedStyle(gd).display;\n",
       "        if (!display || display === 'none') {{\n",
       "            console.log([gd, 'removed!']);\n",
       "            Plotly.purge(gd);\n",
       "            observer.disconnect();\n",
       "        }}\n",
       "}});\n",
       "\n",
       "// Listen for the removal of the full notebook cells\n",
       "var notebookContainer = gd.closest('#notebook-container');\n",
       "if (notebookContainer) {{\n",
       "    x.observe(notebookContainer, {childList: true});\n",
       "}}\n",
       "\n",
       "// Listen for the clearing of the current output cell\n",
       "var outputEl = gd.closest('.output');\n",
       "if (outputEl) {{\n",
       "    x.observe(outputEl, {childList: true});\n",
       "}}\n",
       "\n",
       "                        })                };                });            </script>        </div>"
      ]
     },
     "metadata": {},
     "output_type": "display_data"
    }
   ],
   "source": [
    "# Correlation heatmap\n",
    "# Select the specified variables\n",
    "df_heat = df[['Economy (GDP per Capita)', 'Health (Life Expectancy)', 'Freedom', \n",
    "         'Trust (Government Corruption)', 'Generosity', 'Happiness Score']]\n",
    "\n",
    "# Calculate the correlation matrix\n",
    "corr_matrix = df_heat.corr()\n",
    "\n",
    "# Create a heatmap\n",
    "fig2 = px.imshow(corr_matrix, \n",
    "                text_auto=True, \n",
    "                color_continuous_scale='Viridis', \n",
    "                title='Correlation Heatmap',\n",
    "                width=800,  # Adjust width\n",
    "                height=600)  # Adjust height\n",
    "\n",
    "fig2.show()"
   ]
  },
  {
   "cell_type": "code",
   "execution_count": 16,
   "id": "2182a3d1",
   "metadata": {
    "execution": {
     "iopub.execute_input": "2024-11-04T15:05:46.529631Z",
     "iopub.status.busy": "2024-11-04T15:05:46.528572Z",
     "iopub.status.idle": "2024-11-04T15:05:46.687166Z",
     "shell.execute_reply": "2024-11-04T15:05:46.685822Z"
    },
    "papermill": {
     "duration": 0.172644,
     "end_time": "2024-11-04T15:05:46.689577",
     "exception": false,
     "start_time": "2024-11-04T15:05:46.516933",
     "status": "completed"
    },
    "tags": []
   },
   "outputs": [
    {
     "name": "stdout",
     "output_type": "stream",
     "text": [
      "0                       Western Europe\n",
      "1                       Western Europe\n",
      "2                       Western Europe\n",
      "3                       Western Europe\n",
      "4                       Western Europe\n",
      "                    ...               \n",
      "152                 Sub-Saharan Africa\n",
      "153                      Southern Asia\n",
      "154                 Sub-Saharan Africa\n",
      "155    Middle East and Northern Africa\n",
      "156                 Sub-Saharan Africa\n",
      "Name: Region, Length: 157, dtype: object\n",
      "                            OLS Regression Results                            \n",
      "==============================================================================\n",
      "Dep. Variable:        Happiness Score   R-squared:                       0.624\n",
      "Model:                            OLS   Adj. R-squared:                  0.621\n",
      "Method:                 Least Squares   F-statistic:                     256.7\n",
      "Date:                Mon, 04 Nov 2024   Prob (F-statistic):           1.07e-34\n",
      "Time:                        15:05:46   Log-Likelihood:                -166.39\n",
      "No. Observations:                 157   AIC:                             336.8\n",
      "Df Residuals:                     155   BIC:                             342.9\n",
      "Df Model:                           1                                         \n",
      "Covariance Type:            nonrobust                                         \n",
      "============================================================================================\n",
      "                               coef    std err          t      P>|t|      [0.025      0.975]\n",
      "--------------------------------------------------------------------------------------------\n",
      "const                        3.2923      0.142     23.187      0.000       3.012       3.573\n",
      "Economy (GDP per Capita)     2.1958      0.137     16.022      0.000       1.925       2.467\n",
      "==============================================================================\n",
      "Omnibus:                        0.011   Durbin-Watson:                   1.421\n",
      "Prob(Omnibus):                  0.995   Jarque-Bera (JB):                0.078\n",
      "Skew:                           0.019   Prob(JB):                        0.962\n",
      "Kurtosis:                       2.897   Cond. No.                         4.86\n",
      "==============================================================================\n",
      "\n",
      "Notes:\n",
      "[1] Standard Errors assume that the covariance matrix of the errors is correctly specified.\n"
     ]
    },
    {
     "data": {
      "text/html": [
       "<div>                            <div id=\"ce314639-6d6b-498d-958c-c838b000a297\" class=\"plotly-graph-div\" style=\"height:525px; width:100%;\"></div>            <script type=\"text/javascript\">                require([\"plotly\"], function(Plotly) {                    window.PLOTLYENV=window.PLOTLYENV || {};                                    if (document.getElementById(\"ce314639-6d6b-498d-958c-c838b000a297\")) {                    Plotly.newPlot(                        \"ce314639-6d6b-498d-958c-c838b000a297\",                        [{\"hovertemplate\":\"Region=Western Europe\\u003cbr\\u003eGDP per Capita=%{x}\\u003cbr\\u003eHappiness Score=%{y}\\u003cextra\\u003e\\u003c\\u002fextra\\u003e\",\"legendgroup\":\"Western Europe\",\"marker\":{\"color\":\"#636efa\",\"symbol\":\"circle\"},\"mode\":\"markers\",\"name\":\"Western Europe\",\"orientation\":\"v\",\"showlegend\":true,\"x\":[1.44178,1.52733,1.42666,1.57744,1.40598,1.46468,1.45181,1.45038,1.44787,1.42539,1.48341,1.69752,1.40283,1.30782,1.39488,1.34253,1.35495,1.31141,1.31857,1.27607,1.24886],\"xaxis\":\"x\",\"y\":[7.526,7.509,7.501,7.498,7.413,7.339,7.291,7.119,6.994,6.929,6.907,6.871,6.725,6.488,6.478,6.361,5.977,5.771,5.546,5.123,5.033],\"yaxis\":\"y\",\"type\":\"scatter\"},{\"hovertemplate\":\"Region=North America\\u003cbr\\u003eGDP per Capita=%{x}\\u003cbr\\u003eHappiness Score=%{y}\\u003cextra\\u003e\\u003c\\u002fextra\\u003e\",\"legendgroup\":\"North America\",\"marker\":{\"color\":\"#EF553B\",\"symbol\":\"circle\"},\"mode\":\"markers\",\"name\":\"North America\",\"orientation\":\"v\",\"showlegend\":true,\"x\":[1.44015,1.50796],\"xaxis\":\"x\",\"y\":[7.404,7.104],\"yaxis\":\"y\",\"type\":\"scatter\"},{\"hovertemplate\":\"Region=Australia and New Zealand\\u003cbr\\u003eGDP per Capita=%{x}\\u003cbr\\u003eHappiness Score=%{y}\\u003cextra\\u003e\\u003c\\u002fextra\\u003e\",\"legendgroup\":\"Australia and New Zealand\",\"marker\":{\"color\":\"#00cc96\",\"symbol\":\"circle\"},\"mode\":\"markers\",\"name\":\"Australia and New Zealand\",\"orientation\":\"v\",\"showlegend\":true,\"x\":[1.36066,1.44443],\"xaxis\":\"x\",\"y\":[7.334,7.313],\"yaxis\":\"y\",\"type\":\"scatter\"},{\"hovertemplate\":\"Region=Middle East and Northern Africa\\u003cbr\\u003eGDP per Capita=%{x}\\u003cbr\\u003eHappiness Score=%{y}\\u003cextra\\u003e\\u003c\\u002fextra\\u003e\",\"legendgroup\":\"Middle East and Northern Africa\",\"marker\":{\"color\":\"#ab63fa\",\"symbol\":\"circle\"},\"mode\":\"markers\",\"name\":\"Middle East and Northern Africa\",\"orientation\":\"v\",\"showlegend\":true,\"x\":[1.33766,1.57352,1.48953,1.82427,1.05266,1.61714,0.951772064516129,1.06688,1.16492,0.99673,0.84058,1.12268,0.97724,1.11758,0.67024,1.07474,0.95395,0.57939,0.74719],\"xaxis\":\"x\",\"y\":[7.267,6.573,6.379,6.375,6.355,6.239,6.218,5.615,5.389,5.303,5.151,5.129,5.045,4.813,4.754,4.575,4.362,3.724,3.069],\"yaxis\":\"y\",\"type\":\"scatter\"},{\"hovertemplate\":\"Region=Latin America and Caribbean\\u003cbr\\u003eGDP per Capita=%{x}\\u003cbr\\u003eHappiness Score=%{y}\\u003cextra\\u003e\\u003c\\u002fextra\\u003e\",\"legendgroup\":\"Latin America and Caribbean\",\"marker\":{\"color\":\"#FFA15A\",\"symbol\":\"circle\"},\"mode\":\"markers\",\"name\":\"Latin America and Caribbean\",\"orientation\":\"v\",\"showlegend\":true,\"x\":[1.06879,1.35943,1.08754,1.11508,1.2167,1.18306,1.15137,1.18157,1.03032,0.83454,1.09686,1.32572,1.13367,0.8737,0.69384,0.97306,0.87616,0.951772064516129,0.99602,0.89373,0.89333,1.02787,0.69429,0.34097],\"xaxis\":\"x\",\"y\":[7.087,7.039,6.952,6.778,6.705,6.701,6.65,6.545,6.481,6.324,6.269,6.168,6.084,6.068,5.992,5.976,5.956,5.822,5.743,5.538,5.51,5.155,4.871,4.028],\"yaxis\":\"y\",\"type\":\"scatter\"},{\"hovertemplate\":\"Region=Southeastern Asia\\u003cbr\\u003eGDP per Capita=%{x}\\u003cbr\\u003eHappiness Score=%{y}\\u003cextra\\u003e\\u003c\\u002fextra\\u003e\",\"legendgroup\":\"Southeastern Asia\",\"marker\":{\"color\":\"#19d3f3\",\"symbol\":\"circle\"},\"mode\":\"markers\",\"name\":\"Southeastern Asia\",\"orientation\":\"v\",\"showlegend\":true,\"x\":[1.64555,1.0893,1.25142,0.95104,0.81217,0.74037,0.68042,0.34112,0.55604],\"xaxis\":\"x\",\"y\":[6.739,6.474,6.005,5.314,5.279,5.061,4.876,4.395,3.907],\"yaxis\":\"y\",\"type\":\"scatter\"},{\"hovertemplate\":\"Region=Central and Eastern Europe\\u003cbr\\u003eGDP per Capita=%{x}\\u003cbr\\u003eHappiness Score=%{y}\\u003cextra\\u003e\\u003c\\u002fextra\\u003e\",\"legendgroup\":\"Central and Eastern Europe\",\"marker\":{\"color\":\"#FF6692\",\"symbol\":\"circle\"},\"mode\":\"markers\",\"name\":\"Central and Eastern Europe\",\"orientation\":\"v\",\"showlegend\":true,\"x\":[1.30915,1.27973,0.73591,1.22943,0.69177,1.23228,1.24585,1.2692,1.13062,1.29947,1.08017,1.21788,1.1697,1.27964,1.18649,0.90145,1.12373,0.56044,1.03437,0.93383,1.07838,1.24142,1.0193,0.48835,0.9553,0.86086,0.87287,0.83792,1.11306],\"xaxis\":\"x\",\"y\":[6.596,6.078,5.987,5.919,5.897,5.856,5.835,5.813,5.802,5.768,5.658,5.56,5.528,5.517,5.488,5.401,5.291,5.185,5.177,5.163,5.161,5.145,5.121,4.996,4.655,4.36,4.324,4.252,4.217],\"yaxis\":\"y\",\"type\":\"scatter\"},{\"hovertemplate\":\"Region=Eastern Asia\\u003cbr\\u003eGDP per Capita=%{x}\\u003cbr\\u003eHappiness Score=%{y}\\u003cextra\\u003e\\u003c\\u002fextra\\u003e\",\"legendgroup\":\"Eastern Asia\",\"marker\":{\"color\":\"#B6E880\",\"symbol\":\"circle\"},\"mode\":\"markers\",\"name\":\"Eastern Asia\",\"orientation\":\"v\",\"showlegend\":true,\"x\":[1.39729,1.38007,1.35948,1.5107,1.0278,0.98853],\"xaxis\":\"x\",\"y\":[6.379,5.921,5.835,5.458,5.245,4.907],\"yaxis\":\"y\",\"type\":\"scatter\"},{\"hovertemplate\":\"Region=Sub-Saharan Africa\\u003cbr\\u003eGDP per Capita=%{x}\\u003cbr\\u003eHappiness Score=%{y}\\u003cextra\\u003e\\u003c\\u002fextra\\u003e\",\"legendgroup\":\"Sub-Saharan Africa\",\"marker\":{\"color\":\"#FF97FF\",\"symbol\":\"circle\"},\"mode\":\"markers\",\"name\":\"Sub-Saharan Africa\",\"orientation\":\"v\",\"showlegend\":true,\"x\":[1.14372,0.0,0.25558,0.75216,0.61202,0.36485,0.93287,0.52497,0.29283,1.02416,0.52267,0.63107,0.05661,0.77109,0.44314,0.61391,0.35041,0.08709,0.63069,1.15851,0.31292,1.09426,0.27509,0.55507,0.84731,0.1327,0.39394,0.42214,0.31995,0.34719,0.27954,0.47155,0.10706,0.22415,0.32846,0.39499,0.28123,0.06831],\"xaxis\":\"x\",\"y\":[5.648,5.44,5.057,4.875,4.795,4.635,4.574,4.513,4.508,4.459,4.356,4.276,4.272,4.236,4.219,4.201,4.193,4.156,4.139,4.121,4.073,3.974,3.956,3.916,3.866,3.856,3.832,3.763,3.739,3.739,3.695,3.666,3.622,3.607,3.515,3.484,3.303,2.905],\"yaxis\":\"y\",\"type\":\"scatter\"},{\"hovertemplate\":\"Region=Southern Asia\\u003cbr\\u003eGDP per Capita=%{x}\\u003cbr\\u003eHappiness Score=%{y}\\u003cextra\\u003e\\u003c\\u002fextra\\u003e\",\"legendgroup\":\"Southern Asia\",\"marker\":{\"color\":\"#FECB52\",\"symbol\":\"circle\"},\"mode\":\"markers\",\"name\":\"Southern Asia\",\"orientation\":\"v\",\"showlegend\":true,\"x\":[0.8527,0.68816,0.44626,0.54177,0.97318,0.74036,0.38227],\"xaxis\":\"x\",\"y\":[5.196,5.132,4.793,4.643,4.415,4.404,3.36],\"yaxis\":\"y\",\"type\":\"scatter\"}],                        {\"template\":{\"data\":{\"histogram2dcontour\":[{\"type\":\"histogram2dcontour\",\"colorbar\":{\"outlinewidth\":0,\"ticks\":\"\"},\"colorscale\":[[0.0,\"#0d0887\"],[0.1111111111111111,\"#46039f\"],[0.2222222222222222,\"#7201a8\"],[0.3333333333333333,\"#9c179e\"],[0.4444444444444444,\"#bd3786\"],[0.5555555555555556,\"#d8576b\"],[0.6666666666666666,\"#ed7953\"],[0.7777777777777778,\"#fb9f3a\"],[0.8888888888888888,\"#fdca26\"],[1.0,\"#f0f921\"]]}],\"choropleth\":[{\"type\":\"choropleth\",\"colorbar\":{\"outlinewidth\":0,\"ticks\":\"\"}}],\"histogram2d\":[{\"type\":\"histogram2d\",\"colorbar\":{\"outlinewidth\":0,\"ticks\":\"\"},\"colorscale\":[[0.0,\"#0d0887\"],[0.1111111111111111,\"#46039f\"],[0.2222222222222222,\"#7201a8\"],[0.3333333333333333,\"#9c179e\"],[0.4444444444444444,\"#bd3786\"],[0.5555555555555556,\"#d8576b\"],[0.6666666666666666,\"#ed7953\"],[0.7777777777777778,\"#fb9f3a\"],[0.8888888888888888,\"#fdca26\"],[1.0,\"#f0f921\"]]}],\"heatmap\":[{\"type\":\"heatmap\",\"colorbar\":{\"outlinewidth\":0,\"ticks\":\"\"},\"colorscale\":[[0.0,\"#0d0887\"],[0.1111111111111111,\"#46039f\"],[0.2222222222222222,\"#7201a8\"],[0.3333333333333333,\"#9c179e\"],[0.4444444444444444,\"#bd3786\"],[0.5555555555555556,\"#d8576b\"],[0.6666666666666666,\"#ed7953\"],[0.7777777777777778,\"#fb9f3a\"],[0.8888888888888888,\"#fdca26\"],[1.0,\"#f0f921\"]]}],\"heatmapgl\":[{\"type\":\"heatmapgl\",\"colorbar\":{\"outlinewidth\":0,\"ticks\":\"\"},\"colorscale\":[[0.0,\"#0d0887\"],[0.1111111111111111,\"#46039f\"],[0.2222222222222222,\"#7201a8\"],[0.3333333333333333,\"#9c179e\"],[0.4444444444444444,\"#bd3786\"],[0.5555555555555556,\"#d8576b\"],[0.6666666666666666,\"#ed7953\"],[0.7777777777777778,\"#fb9f3a\"],[0.8888888888888888,\"#fdca26\"],[1.0,\"#f0f921\"]]}],\"contourcarpet\":[{\"type\":\"contourcarpet\",\"colorbar\":{\"outlinewidth\":0,\"ticks\":\"\"}}],\"contour\":[{\"type\":\"contour\",\"colorbar\":{\"outlinewidth\":0,\"ticks\":\"\"},\"colorscale\":[[0.0,\"#0d0887\"],[0.1111111111111111,\"#46039f\"],[0.2222222222222222,\"#7201a8\"],[0.3333333333333333,\"#9c179e\"],[0.4444444444444444,\"#bd3786\"],[0.5555555555555556,\"#d8576b\"],[0.6666666666666666,\"#ed7953\"],[0.7777777777777778,\"#fb9f3a\"],[0.8888888888888888,\"#fdca26\"],[1.0,\"#f0f921\"]]}],\"surface\":[{\"type\":\"surface\",\"colorbar\":{\"outlinewidth\":0,\"ticks\":\"\"},\"colorscale\":[[0.0,\"#0d0887\"],[0.1111111111111111,\"#46039f\"],[0.2222222222222222,\"#7201a8\"],[0.3333333333333333,\"#9c179e\"],[0.4444444444444444,\"#bd3786\"],[0.5555555555555556,\"#d8576b\"],[0.6666666666666666,\"#ed7953\"],[0.7777777777777778,\"#fb9f3a\"],[0.8888888888888888,\"#fdca26\"],[1.0,\"#f0f921\"]]}],\"mesh3d\":[{\"type\":\"mesh3d\",\"colorbar\":{\"outlinewidth\":0,\"ticks\":\"\"}}],\"scatter\":[{\"fillpattern\":{\"fillmode\":\"overlay\",\"size\":10,\"solidity\":0.2},\"type\":\"scatter\"}],\"parcoords\":[{\"type\":\"parcoords\",\"line\":{\"colorbar\":{\"outlinewidth\":0,\"ticks\":\"\"}}}],\"scatterpolargl\":[{\"type\":\"scatterpolargl\",\"marker\":{\"colorbar\":{\"outlinewidth\":0,\"ticks\":\"\"}}}],\"bar\":[{\"error_x\":{\"color\":\"#2a3f5f\"},\"error_y\":{\"color\":\"#2a3f5f\"},\"marker\":{\"line\":{\"color\":\"#E5ECF6\",\"width\":0.5},\"pattern\":{\"fillmode\":\"overlay\",\"size\":10,\"solidity\":0.2}},\"type\":\"bar\"}],\"scattergeo\":[{\"type\":\"scattergeo\",\"marker\":{\"colorbar\":{\"outlinewidth\":0,\"ticks\":\"\"}}}],\"scatterpolar\":[{\"type\":\"scatterpolar\",\"marker\":{\"colorbar\":{\"outlinewidth\":0,\"ticks\":\"\"}}}],\"histogram\":[{\"marker\":{\"pattern\":{\"fillmode\":\"overlay\",\"size\":10,\"solidity\":0.2}},\"type\":\"histogram\"}],\"scattergl\":[{\"type\":\"scattergl\",\"marker\":{\"colorbar\":{\"outlinewidth\":0,\"ticks\":\"\"}}}],\"scatter3d\":[{\"type\":\"scatter3d\",\"line\":{\"colorbar\":{\"outlinewidth\":0,\"ticks\":\"\"}},\"marker\":{\"colorbar\":{\"outlinewidth\":0,\"ticks\":\"\"}}}],\"scattermapbox\":[{\"type\":\"scattermapbox\",\"marker\":{\"colorbar\":{\"outlinewidth\":0,\"ticks\":\"\"}}}],\"scatterternary\":[{\"type\":\"scatterternary\",\"marker\":{\"colorbar\":{\"outlinewidth\":0,\"ticks\":\"\"}}}],\"scattercarpet\":[{\"type\":\"scattercarpet\",\"marker\":{\"colorbar\":{\"outlinewidth\":0,\"ticks\":\"\"}}}],\"carpet\":[{\"aaxis\":{\"endlinecolor\":\"#2a3f5f\",\"gridcolor\":\"white\",\"linecolor\":\"white\",\"minorgridcolor\":\"white\",\"startlinecolor\":\"#2a3f5f\"},\"baxis\":{\"endlinecolor\":\"#2a3f5f\",\"gridcolor\":\"white\",\"linecolor\":\"white\",\"minorgridcolor\":\"white\",\"startlinecolor\":\"#2a3f5f\"},\"type\":\"carpet\"}],\"table\":[{\"cells\":{\"fill\":{\"color\":\"#EBF0F8\"},\"line\":{\"color\":\"white\"}},\"header\":{\"fill\":{\"color\":\"#C8D4E3\"},\"line\":{\"color\":\"white\"}},\"type\":\"table\"}],\"barpolar\":[{\"marker\":{\"line\":{\"color\":\"#E5ECF6\",\"width\":0.5},\"pattern\":{\"fillmode\":\"overlay\",\"size\":10,\"solidity\":0.2}},\"type\":\"barpolar\"}],\"pie\":[{\"automargin\":true,\"type\":\"pie\"}]},\"layout\":{\"autotypenumbers\":\"strict\",\"colorway\":[\"#636efa\",\"#EF553B\",\"#00cc96\",\"#ab63fa\",\"#FFA15A\",\"#19d3f3\",\"#FF6692\",\"#B6E880\",\"#FF97FF\",\"#FECB52\"],\"font\":{\"color\":\"#2a3f5f\"},\"hovermode\":\"closest\",\"hoverlabel\":{\"align\":\"left\"},\"paper_bgcolor\":\"white\",\"plot_bgcolor\":\"#E5ECF6\",\"polar\":{\"bgcolor\":\"#E5ECF6\",\"angularaxis\":{\"gridcolor\":\"white\",\"linecolor\":\"white\",\"ticks\":\"\"},\"radialaxis\":{\"gridcolor\":\"white\",\"linecolor\":\"white\",\"ticks\":\"\"}},\"ternary\":{\"bgcolor\":\"#E5ECF6\",\"aaxis\":{\"gridcolor\":\"white\",\"linecolor\":\"white\",\"ticks\":\"\"},\"baxis\":{\"gridcolor\":\"white\",\"linecolor\":\"white\",\"ticks\":\"\"},\"caxis\":{\"gridcolor\":\"white\",\"linecolor\":\"white\",\"ticks\":\"\"}},\"coloraxis\":{\"colorbar\":{\"outlinewidth\":0,\"ticks\":\"\"}},\"colorscale\":{\"sequential\":[[0.0,\"#0d0887\"],[0.1111111111111111,\"#46039f\"],[0.2222222222222222,\"#7201a8\"],[0.3333333333333333,\"#9c179e\"],[0.4444444444444444,\"#bd3786\"],[0.5555555555555556,\"#d8576b\"],[0.6666666666666666,\"#ed7953\"],[0.7777777777777778,\"#fb9f3a\"],[0.8888888888888888,\"#fdca26\"],[1.0,\"#f0f921\"]],\"sequentialminus\":[[0.0,\"#0d0887\"],[0.1111111111111111,\"#46039f\"],[0.2222222222222222,\"#7201a8\"],[0.3333333333333333,\"#9c179e\"],[0.4444444444444444,\"#bd3786\"],[0.5555555555555556,\"#d8576b\"],[0.6666666666666666,\"#ed7953\"],[0.7777777777777778,\"#fb9f3a\"],[0.8888888888888888,\"#fdca26\"],[1.0,\"#f0f921\"]],\"diverging\":[[0,\"#8e0152\"],[0.1,\"#c51b7d\"],[0.2,\"#de77ae\"],[0.3,\"#f1b6da\"],[0.4,\"#fde0ef\"],[0.5,\"#f7f7f7\"],[0.6,\"#e6f5d0\"],[0.7,\"#b8e186\"],[0.8,\"#7fbc41\"],[0.9,\"#4d9221\"],[1,\"#276419\"]]},\"xaxis\":{\"gridcolor\":\"white\",\"linecolor\":\"white\",\"ticks\":\"\",\"title\":{\"standoff\":15},\"zerolinecolor\":\"white\",\"automargin\":true,\"zerolinewidth\":2},\"yaxis\":{\"gridcolor\":\"white\",\"linecolor\":\"white\",\"ticks\":\"\",\"title\":{\"standoff\":15},\"zerolinecolor\":\"white\",\"automargin\":true,\"zerolinewidth\":2},\"scene\":{\"xaxis\":{\"backgroundcolor\":\"#E5ECF6\",\"gridcolor\":\"white\",\"linecolor\":\"white\",\"showbackground\":true,\"ticks\":\"\",\"zerolinecolor\":\"white\",\"gridwidth\":2},\"yaxis\":{\"backgroundcolor\":\"#E5ECF6\",\"gridcolor\":\"white\",\"linecolor\":\"white\",\"showbackground\":true,\"ticks\":\"\",\"zerolinecolor\":\"white\",\"gridwidth\":2},\"zaxis\":{\"backgroundcolor\":\"#E5ECF6\",\"gridcolor\":\"white\",\"linecolor\":\"white\",\"showbackground\":true,\"ticks\":\"\",\"zerolinecolor\":\"white\",\"gridwidth\":2}},\"shapedefaults\":{\"line\":{\"color\":\"#2a3f5f\"}},\"annotationdefaults\":{\"arrowcolor\":\"#2a3f5f\",\"arrowhead\":0,\"arrowwidth\":1},\"geo\":{\"bgcolor\":\"white\",\"landcolor\":\"#E5ECF6\",\"subunitcolor\":\"white\",\"showland\":true,\"showlakes\":true,\"lakecolor\":\"white\"},\"title\":{\"x\":0.05},\"mapbox\":{\"style\":\"light\"}}},\"xaxis\":{\"anchor\":\"y\",\"domain\":[0.0,1.0],\"title\":{\"text\":\"GDP per Capita\"}},\"yaxis\":{\"anchor\":\"x\",\"domain\":[0.0,1.0],\"title\":{\"text\":\"Happiness Score\"}},\"legend\":{\"title\":{\"text\":\"Region\"},\"tracegroupgap\":0},\"title\":{\"text\":\"Effect of GDP on Happiness Across Regions\"}},                        {\"responsive\": true}                    ).then(function(){\n",
       "                            \n",
       "var gd = document.getElementById('ce314639-6d6b-498d-958c-c838b000a297');\n",
       "var x = new MutationObserver(function (mutations, observer) {{\n",
       "        var display = window.getComputedStyle(gd).display;\n",
       "        if (!display || display === 'none') {{\n",
       "            console.log([gd, 'removed!']);\n",
       "            Plotly.purge(gd);\n",
       "            observer.disconnect();\n",
       "        }}\n",
       "}});\n",
       "\n",
       "// Listen for the removal of the full notebook cells\n",
       "var notebookContainer = gd.closest('#notebook-container');\n",
       "if (notebookContainer) {{\n",
       "    x.observe(notebookContainer, {childList: true});\n",
       "}}\n",
       "\n",
       "// Listen for the clearing of the current output cell\n",
       "var outputEl = gd.closest('.output');\n",
       "if (outputEl) {{\n",
       "    x.observe(outputEl, {childList: true});\n",
       "}}\n",
       "\n",
       "                        })                };                });            </script>        </div>"
      ]
     },
     "metadata": {},
     "output_type": "display_data"
    }
   ],
   "source": [
    "# scatter plot to identify the effect of GDP per Capita on Happiness Score in various Regions\n",
    "# Check the correlation between gdp and happiness perform correlation analysis\n",
    "\n",
    "#print(df)\n",
    "df_corr = df[['Economy (GDP per Capita)', 'Happiness Score']].corr()\n",
    "df_corr\n",
    "# Perform regression analysis\n",
    "X = df['Economy (GDP per Capita)']\n",
    "y = df['Happiness Score']\n",
    "z = df['Region']\n",
    "print(z)\n",
    "\n",
    "# Add a constant to the independent variable\n",
    "X = sm.add_constant(X)\n",
    "\n",
    "# Fit the regression model\n",
    "model = sm.OLS(y, X).fit()\n",
    "\n",
    "# Print the summary of the regression\n",
    "print(model.summary())\n",
    "\n",
    "#Visualization\n",
    "\n",
    "fig3 = px.scatter(df, x='Economy (GDP per Capita)', y='Happiness Score', color=z, \n",
    "                 title='Effect of GDP on Happiness Across Regions',\n",
    "                 labels={'Economy (GDP per Capita)': 'GDP per Capita', 'Happiness Score': 'Happiness Score'})\n",
    "fig3.show()\n",
    "\n",
    "\n"
   ]
  },
  {
   "cell_type": "code",
   "execution_count": 17,
   "id": "54565358",
   "metadata": {
    "execution": {
     "iopub.execute_input": "2024-11-04T15:05:46.712854Z",
     "iopub.status.busy": "2024-11-04T15:05:46.712120Z",
     "iopub.status.idle": "2024-11-04T15:05:46.798846Z",
     "shell.execute_reply": "2024-11-04T15:05:46.797587Z"
    },
    "papermill": {
     "duration": 0.101067,
     "end_time": "2024-11-04T15:05:46.801403",
     "exception": false,
     "start_time": "2024-11-04T15:05:46.700336",
     "status": "completed"
    },
    "tags": []
   },
   "outputs": [
    {
     "data": {
      "text/html": [
       "<div>                            <div id=\"9e63ef9e-fe4c-4c5a-bf70-02731b6df76a\" class=\"plotly-graph-div\" style=\"height:600px; width:800px;\"></div>            <script type=\"text/javascript\">                require([\"plotly\"], function(Plotly) {                    window.PLOTLYENV=window.PLOTLYENV || {};                                    if (document.getElementById(\"9e63ef9e-fe4c-4c5a-bf70-02731b6df76a\")) {                    Plotly.newPlot(                        \"9e63ef9e-fe4c-4c5a-bf70-02731b6df76a\",                        [{\"domain\":{\"x\":[0.0,1.0],\"y\":[0.0,1.0]},\"hovertemplate\":\"Region=%{label}\\u003cbr\\u003eHappiness Score=%{value}\\u003cextra\\u003e\\u003c\\u002fextra\\u003e\",\"labels\":[\"Australia and New Zealand\",\"Central and Eastern Europe\",\"Eastern Asia\",\"Latin America and Caribbean\",\"Middle East and Northern Africa\",\"North America\",\"Southeastern Asia\",\"Southern Asia\",\"Sub-Saharan Africa\",\"Western Europe\"],\"legendgroup\":\"\",\"name\":\"\",\"showlegend\":true,\"values\":[2,29,6,24,19,2,9,7,38,21],\"type\":\"pie\"}],                        {\"template\":{\"data\":{\"histogram2dcontour\":[{\"type\":\"histogram2dcontour\",\"colorbar\":{\"outlinewidth\":0,\"ticks\":\"\"},\"colorscale\":[[0.0,\"#0d0887\"],[0.1111111111111111,\"#46039f\"],[0.2222222222222222,\"#7201a8\"],[0.3333333333333333,\"#9c179e\"],[0.4444444444444444,\"#bd3786\"],[0.5555555555555556,\"#d8576b\"],[0.6666666666666666,\"#ed7953\"],[0.7777777777777778,\"#fb9f3a\"],[0.8888888888888888,\"#fdca26\"],[1.0,\"#f0f921\"]]}],\"choropleth\":[{\"type\":\"choropleth\",\"colorbar\":{\"outlinewidth\":0,\"ticks\":\"\"}}],\"histogram2d\":[{\"type\":\"histogram2d\",\"colorbar\":{\"outlinewidth\":0,\"ticks\":\"\"},\"colorscale\":[[0.0,\"#0d0887\"],[0.1111111111111111,\"#46039f\"],[0.2222222222222222,\"#7201a8\"],[0.3333333333333333,\"#9c179e\"],[0.4444444444444444,\"#bd3786\"],[0.5555555555555556,\"#d8576b\"],[0.6666666666666666,\"#ed7953\"],[0.7777777777777778,\"#fb9f3a\"],[0.8888888888888888,\"#fdca26\"],[1.0,\"#f0f921\"]]}],\"heatmap\":[{\"type\":\"heatmap\",\"colorbar\":{\"outlinewidth\":0,\"ticks\":\"\"},\"colorscale\":[[0.0,\"#0d0887\"],[0.1111111111111111,\"#46039f\"],[0.2222222222222222,\"#7201a8\"],[0.3333333333333333,\"#9c179e\"],[0.4444444444444444,\"#bd3786\"],[0.5555555555555556,\"#d8576b\"],[0.6666666666666666,\"#ed7953\"],[0.7777777777777778,\"#fb9f3a\"],[0.8888888888888888,\"#fdca26\"],[1.0,\"#f0f921\"]]}],\"heatmapgl\":[{\"type\":\"heatmapgl\",\"colorbar\":{\"outlinewidth\":0,\"ticks\":\"\"},\"colorscale\":[[0.0,\"#0d0887\"],[0.1111111111111111,\"#46039f\"],[0.2222222222222222,\"#7201a8\"],[0.3333333333333333,\"#9c179e\"],[0.4444444444444444,\"#bd3786\"],[0.5555555555555556,\"#d8576b\"],[0.6666666666666666,\"#ed7953\"],[0.7777777777777778,\"#fb9f3a\"],[0.8888888888888888,\"#fdca26\"],[1.0,\"#f0f921\"]]}],\"contourcarpet\":[{\"type\":\"contourcarpet\",\"colorbar\":{\"outlinewidth\":0,\"ticks\":\"\"}}],\"contour\":[{\"type\":\"contour\",\"colorbar\":{\"outlinewidth\":0,\"ticks\":\"\"},\"colorscale\":[[0.0,\"#0d0887\"],[0.1111111111111111,\"#46039f\"],[0.2222222222222222,\"#7201a8\"],[0.3333333333333333,\"#9c179e\"],[0.4444444444444444,\"#bd3786\"],[0.5555555555555556,\"#d8576b\"],[0.6666666666666666,\"#ed7953\"],[0.7777777777777778,\"#fb9f3a\"],[0.8888888888888888,\"#fdca26\"],[1.0,\"#f0f921\"]]}],\"surface\":[{\"type\":\"surface\",\"colorbar\":{\"outlinewidth\":0,\"ticks\":\"\"},\"colorscale\":[[0.0,\"#0d0887\"],[0.1111111111111111,\"#46039f\"],[0.2222222222222222,\"#7201a8\"],[0.3333333333333333,\"#9c179e\"],[0.4444444444444444,\"#bd3786\"],[0.5555555555555556,\"#d8576b\"],[0.6666666666666666,\"#ed7953\"],[0.7777777777777778,\"#fb9f3a\"],[0.8888888888888888,\"#fdca26\"],[1.0,\"#f0f921\"]]}],\"mesh3d\":[{\"type\":\"mesh3d\",\"colorbar\":{\"outlinewidth\":0,\"ticks\":\"\"}}],\"scatter\":[{\"fillpattern\":{\"fillmode\":\"overlay\",\"size\":10,\"solidity\":0.2},\"type\":\"scatter\"}],\"parcoords\":[{\"type\":\"parcoords\",\"line\":{\"colorbar\":{\"outlinewidth\":0,\"ticks\":\"\"}}}],\"scatterpolargl\":[{\"type\":\"scatterpolargl\",\"marker\":{\"colorbar\":{\"outlinewidth\":0,\"ticks\":\"\"}}}],\"bar\":[{\"error_x\":{\"color\":\"#2a3f5f\"},\"error_y\":{\"color\":\"#2a3f5f\"},\"marker\":{\"line\":{\"color\":\"#E5ECF6\",\"width\":0.5},\"pattern\":{\"fillmode\":\"overlay\",\"size\":10,\"solidity\":0.2}},\"type\":\"bar\"}],\"scattergeo\":[{\"type\":\"scattergeo\",\"marker\":{\"colorbar\":{\"outlinewidth\":0,\"ticks\":\"\"}}}],\"scatterpolar\":[{\"type\":\"scatterpolar\",\"marker\":{\"colorbar\":{\"outlinewidth\":0,\"ticks\":\"\"}}}],\"histogram\":[{\"marker\":{\"pattern\":{\"fillmode\":\"overlay\",\"size\":10,\"solidity\":0.2}},\"type\":\"histogram\"}],\"scattergl\":[{\"type\":\"scattergl\",\"marker\":{\"colorbar\":{\"outlinewidth\":0,\"ticks\":\"\"}}}],\"scatter3d\":[{\"type\":\"scatter3d\",\"line\":{\"colorbar\":{\"outlinewidth\":0,\"ticks\":\"\"}},\"marker\":{\"colorbar\":{\"outlinewidth\":0,\"ticks\":\"\"}}}],\"scattermapbox\":[{\"type\":\"scattermapbox\",\"marker\":{\"colorbar\":{\"outlinewidth\":0,\"ticks\":\"\"}}}],\"scatterternary\":[{\"type\":\"scatterternary\",\"marker\":{\"colorbar\":{\"outlinewidth\":0,\"ticks\":\"\"}}}],\"scattercarpet\":[{\"type\":\"scattercarpet\",\"marker\":{\"colorbar\":{\"outlinewidth\":0,\"ticks\":\"\"}}}],\"carpet\":[{\"aaxis\":{\"endlinecolor\":\"#2a3f5f\",\"gridcolor\":\"white\",\"linecolor\":\"white\",\"minorgridcolor\":\"white\",\"startlinecolor\":\"#2a3f5f\"},\"baxis\":{\"endlinecolor\":\"#2a3f5f\",\"gridcolor\":\"white\",\"linecolor\":\"white\",\"minorgridcolor\":\"white\",\"startlinecolor\":\"#2a3f5f\"},\"type\":\"carpet\"}],\"table\":[{\"cells\":{\"fill\":{\"color\":\"#EBF0F8\"},\"line\":{\"color\":\"white\"}},\"header\":{\"fill\":{\"color\":\"#C8D4E3\"},\"line\":{\"color\":\"white\"}},\"type\":\"table\"}],\"barpolar\":[{\"marker\":{\"line\":{\"color\":\"#E5ECF6\",\"width\":0.5},\"pattern\":{\"fillmode\":\"overlay\",\"size\":10,\"solidity\":0.2}},\"type\":\"barpolar\"}],\"pie\":[{\"automargin\":true,\"type\":\"pie\"}]},\"layout\":{\"autotypenumbers\":\"strict\",\"colorway\":[\"#636efa\",\"#EF553B\",\"#00cc96\",\"#ab63fa\",\"#FFA15A\",\"#19d3f3\",\"#FF6692\",\"#B6E880\",\"#FF97FF\",\"#FECB52\"],\"font\":{\"color\":\"#2a3f5f\"},\"hovermode\":\"closest\",\"hoverlabel\":{\"align\":\"left\"},\"paper_bgcolor\":\"white\",\"plot_bgcolor\":\"#E5ECF6\",\"polar\":{\"bgcolor\":\"#E5ECF6\",\"angularaxis\":{\"gridcolor\":\"white\",\"linecolor\":\"white\",\"ticks\":\"\"},\"radialaxis\":{\"gridcolor\":\"white\",\"linecolor\":\"white\",\"ticks\":\"\"}},\"ternary\":{\"bgcolor\":\"#E5ECF6\",\"aaxis\":{\"gridcolor\":\"white\",\"linecolor\":\"white\",\"ticks\":\"\"},\"baxis\":{\"gridcolor\":\"white\",\"linecolor\":\"white\",\"ticks\":\"\"},\"caxis\":{\"gridcolor\":\"white\",\"linecolor\":\"white\",\"ticks\":\"\"}},\"coloraxis\":{\"colorbar\":{\"outlinewidth\":0,\"ticks\":\"\"}},\"colorscale\":{\"sequential\":[[0.0,\"#0d0887\"],[0.1111111111111111,\"#46039f\"],[0.2222222222222222,\"#7201a8\"],[0.3333333333333333,\"#9c179e\"],[0.4444444444444444,\"#bd3786\"],[0.5555555555555556,\"#d8576b\"],[0.6666666666666666,\"#ed7953\"],[0.7777777777777778,\"#fb9f3a\"],[0.8888888888888888,\"#fdca26\"],[1.0,\"#f0f921\"]],\"sequentialminus\":[[0.0,\"#0d0887\"],[0.1111111111111111,\"#46039f\"],[0.2222222222222222,\"#7201a8\"],[0.3333333333333333,\"#9c179e\"],[0.4444444444444444,\"#bd3786\"],[0.5555555555555556,\"#d8576b\"],[0.6666666666666666,\"#ed7953\"],[0.7777777777777778,\"#fb9f3a\"],[0.8888888888888888,\"#fdca26\"],[1.0,\"#f0f921\"]],\"diverging\":[[0,\"#8e0152\"],[0.1,\"#c51b7d\"],[0.2,\"#de77ae\"],[0.3,\"#f1b6da\"],[0.4,\"#fde0ef\"],[0.5,\"#f7f7f7\"],[0.6,\"#e6f5d0\"],[0.7,\"#b8e186\"],[0.8,\"#7fbc41\"],[0.9,\"#4d9221\"],[1,\"#276419\"]]},\"xaxis\":{\"gridcolor\":\"white\",\"linecolor\":\"white\",\"ticks\":\"\",\"title\":{\"standoff\":15},\"zerolinecolor\":\"white\",\"automargin\":true,\"zerolinewidth\":2},\"yaxis\":{\"gridcolor\":\"white\",\"linecolor\":\"white\",\"ticks\":\"\",\"title\":{\"standoff\":15},\"zerolinecolor\":\"white\",\"automargin\":true,\"zerolinewidth\":2},\"scene\":{\"xaxis\":{\"backgroundcolor\":\"#E5ECF6\",\"gridcolor\":\"white\",\"linecolor\":\"white\",\"showbackground\":true,\"ticks\":\"\",\"zerolinecolor\":\"white\",\"gridwidth\":2},\"yaxis\":{\"backgroundcolor\":\"#E5ECF6\",\"gridcolor\":\"white\",\"linecolor\":\"white\",\"showbackground\":true,\"ticks\":\"\",\"zerolinecolor\":\"white\",\"gridwidth\":2},\"zaxis\":{\"backgroundcolor\":\"#E5ECF6\",\"gridcolor\":\"white\",\"linecolor\":\"white\",\"showbackground\":true,\"ticks\":\"\",\"zerolinecolor\":\"white\",\"gridwidth\":2}},\"shapedefaults\":{\"line\":{\"color\":\"#2a3f5f\"}},\"annotationdefaults\":{\"arrowcolor\":\"#2a3f5f\",\"arrowhead\":0,\"arrowwidth\":1},\"geo\":{\"bgcolor\":\"white\",\"landcolor\":\"#E5ECF6\",\"subunitcolor\":\"white\",\"showland\":true,\"showlakes\":true,\"lakecolor\":\"white\"},\"title\":{\"x\":0.05},\"mapbox\":{\"style\":\"light\"}}},\"legend\":{\"tracegroupgap\":0},\"title\":{\"text\":\"Happiness Score by Regions\"},\"height\":600,\"width\":800},                        {\"responsive\": true}                    ).then(function(){\n",
       "                            \n",
       "var gd = document.getElementById('9e63ef9e-fe4c-4c5a-bf70-02731b6df76a');\n",
       "var x = new MutationObserver(function (mutations, observer) {{\n",
       "        var display = window.getComputedStyle(gd).display;\n",
       "        if (!display || display === 'none') {{\n",
       "            console.log([gd, 'removed!']);\n",
       "            Plotly.purge(gd);\n",
       "            observer.disconnect();\n",
       "        }}\n",
       "}});\n",
       "\n",
       "// Listen for the removal of the full notebook cells\n",
       "var notebookContainer = gd.closest('#notebook-container');\n",
       "if (notebookContainer) {{\n",
       "    x.observe(notebookContainer, {childList: true});\n",
       "}}\n",
       "\n",
       "// Listen for the clearing of the current output cell\n",
       "var outputEl = gd.closest('.output');\n",
       "if (outputEl) {{\n",
       "    x.observe(outputEl, {childList: true});\n",
       "}}\n",
       "\n",
       "                        })                };                });            </script>        </div>"
      ]
     },
     "metadata": {},
     "output_type": "display_data"
    }
   ],
   "source": [
    "#pie chart to present Happiness Score by Regions\n",
    "\n",
    "df_pie = df.groupby('Region')['Happiness Score'].count().reset_index()\n",
    "df_pie\n",
    "\n",
    "# Visualization - Pie chart\n",
    "fig4 = px.pie(df_pie, values='Happiness Score',names='Region',\n",
    "             title='Happiness Score by Regions',width=800, height=600)\n",
    "fig4.show()"
   ]
  },
  {
   "cell_type": "code",
   "execution_count": 18,
   "id": "0f9e6b1d",
   "metadata": {
    "execution": {
     "iopub.execute_input": "2024-11-04T15:05:46.825746Z",
     "iopub.status.busy": "2024-11-04T15:05:46.824908Z",
     "iopub.status.idle": "2024-11-04T15:05:46.945037Z",
     "shell.execute_reply": "2024-11-04T15:05:46.943958Z"
    },
    "papermill": {
     "duration": 0.135145,
     "end_time": "2024-11-04T15:05:46.947424",
     "exception": false,
     "start_time": "2024-11-04T15:05:46.812279",
     "status": "completed"
    },
    "tags": []
   },
   "outputs": [
    {
     "data": {
      "text/html": [
       "<div>                            <div id=\"bdea274d-db12-4b70-af4b-d12df17f43f2\" class=\"plotly-graph-div\" style=\"height:525px; width:100%;\"></div>            <script type=\"text/javascript\">                require([\"plotly\"], function(Plotly) {                    window.PLOTLYENV=window.PLOTLYENV || {};                                    if (document.getElementById(\"bdea274d-db12-4b70-af4b-d12df17f43f2\")) {                    Plotly.newPlot(                        \"bdea274d-db12-4b70-af4b-d12df17f43f2\",                        [{\"coloraxis\":\"coloraxis\",\"customdata\":[[0.79504],[0.86303],[0.86733],[0.79579],[0.81091],[0.8276],[0.81231],[0.83096],[0.8512],[0.83121],[0.84917],[0.80565],[0.5533422727272727],[0.76146],[0.77758],[0.81487],[0.61415],[0.81959],[0.81455],[0.84542],[0.71143],[0.94719],[0.80991],[0.81883],[0.70835],[0.69711],[0.76376],[0.72993],[0.72183],[0.80315],[0.59659],[0.83795],[0.64915],[0.59267],[0.79565],[0.71723],[0.87896],[0.61804],[0.54039],[0.50933],[0.63569],[0.65696],[0.52608],[0.61904],[0.5533422727272727],[0.596],[0.62366],[0.65213],[0.50163],[0.85102],[0.68613],[0.45569],[0.91491],[0.57386],[0.52309],[0.58991],[0.69058],[0.88645],[0.4697],[0.64674],[0.63104],[0.84142],[0.79151],[0.62994],[0.44006],[0.66189],[0.52304],[0.63952],[0.5533422727272727],[0.58295],[0.67602],[0.68098],[0.59469],[0.70524],[0.95277],[0.11466],[0.54],[0.64718],[0.49374],[0.60712],[0.54504],[0.47036],[0.73561],[0.49759],[0.55449],[0.6458],[0.70766],[0.63533],[0.57669],[0.59471],[0.67608],[0.40306],[0.76171],[0.79363],[0.64738],[0.66157],[0.33108],[0.59577],[0.80029],[0.53119],[0.55469],[0.38291],[0.05108],[0.58383],[0.64232],[0.23573],[0.50073],[0.56844],[0.73007],[0.52989],[0.0],[0.51076],[0.34745],[0.12698],[0.34578],[0.18611],[0.62007],[0.45091],[0.3988],[0.52116],[0.64083],[0.30147],[0.58628],[0.29681],[0.188],[0.64035],[0.28212],[0.40457],[0.67806],[0.28639],[0.1595],[0.29364],[0.29759],[0.3494],[0.16347],[0.27494],[0.34752],[0.29981],[0.04476],[0.42494],[0.04991],[0.26162],[0.15781],[0.03824],[0.21297],[0.19625],[0.31048],[0.37109],[0.357],[0.23165],[0.18829],[0.31865],[0.21028],[0.17344],[0.24811],[0.62994],[0.15747]],\"geo\":\"geo\",\"hovertemplate\":\"\\u003cb\\u003e%{hovertext}\\u003c\\u002fb\\u003e\\u003cbr\\u003e\\u003cbr\\u003eCountry=%{location}\\u003cbr\\u003eHealth (Life Expectancy)=%{customdata[0]}\\u003cbr\\u003eEconomy (GDP per Capita)=%{z}\\u003cextra\\u003e\\u003c\\u002fextra\\u003e\",\"hovertext\":[\"Denmark\",\"Switzerland\",\"Iceland\",\"Norway\",\"Finland\",\"Canada\",\"Netherlands\",\"New Zealand\",\"Australia\",\"Sweden\",\"Israel\",\"Austria\",\"United States\",\"Costa Rica\",\"Puerto Rico\",\"Germany\",\"Brazil\",\"Belgium\",\"Ireland\",\"Luxembourg\",\"Mexico\",\"Singapore\",\"United Kingdom\",\"Chile\",\"Panama\",\"Argentina\",\"Czech Republic\",\"United Arab Emirates\",\"Uruguay\",\"Malta\",\"Colombia\",\"France\",\"Thailand\",\"Saudi Arabia\",\"Taiwan\",\"Qatar\",\"Spain\",\"Algeria\",\"Guatemala\",\"Suriname\",\"Kuwait\",\"Bahrain\",\"Trinidad and Tobago\",\"Venezuela\",\"Slovakia\",\"El Salvador\",\"Malaysia\",\"Nicaragua\",\"Uzbekistan\",\"Italy\",\"Ecuador\",\"Belize\",\"Japan\",\"Kazakhstan\",\"Moldova\",\"Russia\",\"Poland\",\"South Korea\",\"Bolivia\",\"Lithuania\",\"Belarus\",\"North Cyprus\",\"Slovenia\",\"Peru\",\"Turkmenistan\",\"Mauritius\",\"Libya\",\"Latvia\",\"Cyprus\",\"Paraguay\",\"Romania\",\"Estonia\",\"Jamaica\",\"Croatia\",\"Hong Kong\",\"Somalia\",\"Kosovo\",\"Turkey\",\"Indonesia\",\"Jordan\",\"Azerbaijan\",\"Philippines\",\"China\",\"Bhutan\",\"Kyrgyzstan\",\"Serbia\",\"Bosnia and Herzegovina\",\"Montenegro\",\"Dominican Republic\",\"Morocco\",\"Hungary\",\"Pakistan\",\"Lebanon\",\"Portugal\",\"Macedonia\",\"Vietnam\",\"Somaliland Region\",\"Tunisia\",\"Greece\",\"Tajikistan\",\"Mongolia\",\"Laos\",\"Nigeria\",\"Honduras\",\"Iran\",\"Zambia\",\"Nepal\",\"Palestinian Territories\",\"Albania\",\"Bangladesh\",\"Sierra Leone\",\"Iraq\",\"Namibia\",\"Cameroon\",\"Ethiopia\",\"South Africa\",\"Sri Lanka\",\"India\",\"Myanmar\",\"Egypt\",\"Armenia\",\"Kenya\",\"Ukraine\",\"Ghana\",\"Congo (Kinshasa)\",\"Georgia\",\"Congo (Brazzaville)\",\"Senegal\",\"Bulgaria\",\"Mauritania\",\"Zimbabwe\",\"Malawi\",\"Sudan\",\"Gabon\",\"Mali\",\"Haiti\",\"Botswana\",\"Comoros\",\"Ivory Coast\",\"Cambodia\",\"Angola\",\"Niger\",\"South Sudan\",\"Chad\",\"Burkina Faso\",\"Uganda\",\"Yemen\",\"Madagascar\",\"Tanzania\",\"Liberia\",\"Guinea\",\"Rwanda\",\"Benin\",\"Afghanistan\",\"Togo\",\"Syria\",\"Burundi\"],\"locationmode\":\"country names\",\"locations\":[\"Denmark\",\"Switzerland\",\"Iceland\",\"Norway\",\"Finland\",\"Canada\",\"Netherlands\",\"New Zealand\",\"Australia\",\"Sweden\",\"Israel\",\"Austria\",\"United States\",\"Costa Rica\",\"Puerto Rico\",\"Germany\",\"Brazil\",\"Belgium\",\"Ireland\",\"Luxembourg\",\"Mexico\",\"Singapore\",\"United Kingdom\",\"Chile\",\"Panama\",\"Argentina\",\"Czech Republic\",\"United Arab Emirates\",\"Uruguay\",\"Malta\",\"Colombia\",\"France\",\"Thailand\",\"Saudi Arabia\",\"Taiwan\",\"Qatar\",\"Spain\",\"Algeria\",\"Guatemala\",\"Suriname\",\"Kuwait\",\"Bahrain\",\"Trinidad and Tobago\",\"Venezuela\",\"Slovakia\",\"El Salvador\",\"Malaysia\",\"Nicaragua\",\"Uzbekistan\",\"Italy\",\"Ecuador\",\"Belize\",\"Japan\",\"Kazakhstan\",\"Moldova\",\"Russia\",\"Poland\",\"South Korea\",\"Bolivia\",\"Lithuania\",\"Belarus\",\"North Cyprus\",\"Slovenia\",\"Peru\",\"Turkmenistan\",\"Mauritius\",\"Libya\",\"Latvia\",\"Cyprus\",\"Paraguay\",\"Romania\",\"Estonia\",\"Jamaica\",\"Croatia\",\"Hong Kong\",\"Somalia\",\"Kosovo\",\"Turkey\",\"Indonesia\",\"Jordan\",\"Azerbaijan\",\"Philippines\",\"China\",\"Bhutan\",\"Kyrgyzstan\",\"Serbia\",\"Bosnia and Herzegovina\",\"Montenegro\",\"Dominican Republic\",\"Morocco\",\"Hungary\",\"Pakistan\",\"Lebanon\",\"Portugal\",\"Macedonia\",\"Vietnam\",\"Somaliland Region\",\"Tunisia\",\"Greece\",\"Tajikistan\",\"Mongolia\",\"Laos\",\"Nigeria\",\"Honduras\",\"Iran\",\"Zambia\",\"Nepal\",\"Palestinian Territories\",\"Albania\",\"Bangladesh\",\"Sierra Leone\",\"Iraq\",\"Namibia\",\"Cameroon\",\"Ethiopia\",\"South Africa\",\"Sri Lanka\",\"India\",\"Myanmar\",\"Egypt\",\"Armenia\",\"Kenya\",\"Ukraine\",\"Ghana\",\"Congo (Kinshasa)\",\"Georgia\",\"Congo (Brazzaville)\",\"Senegal\",\"Bulgaria\",\"Mauritania\",\"Zimbabwe\",\"Malawi\",\"Sudan\",\"Gabon\",\"Mali\",\"Haiti\",\"Botswana\",\"Comoros\",\"Ivory Coast\",\"Cambodia\",\"Angola\",\"Niger\",\"South Sudan\",\"Chad\",\"Burkina Faso\",\"Uganda\",\"Yemen\",\"Madagascar\",\"Tanzania\",\"Liberia\",\"Guinea\",\"Rwanda\",\"Benin\",\"Afghanistan\",\"Togo\",\"Syria\",\"Burundi\"],\"name\":\"\",\"z\":[1.44178,1.52733,1.42666,1.57744,1.40598,1.44015,1.46468,1.36066,1.44443,1.45181,1.33766,1.45038,1.50796,1.06879,1.35943,1.44787,1.08754,1.42539,1.48341,1.69752,1.11508,1.64555,1.40283,1.2167,1.18306,1.15137,1.30915,1.57352,1.18157,1.30782,1.03032,1.39488,1.0893,1.48953,1.39729,1.82427,1.34253,1.05266,0.83454,1.09686,1.61714,0.951772064516129,1.32572,1.13367,1.27973,0.8737,1.25142,0.69384,0.73591,1.35495,0.97306,0.87616,1.38007,1.22943,0.69177,1.23228,1.24585,1.35948,0.951772064516129,1.2692,1.13062,1.31141,1.29947,0.99602,1.08017,1.14372,1.06688,1.21788,1.31857,0.89373,1.1697,1.27964,0.89333,1.18649,1.5107,0.0,0.90145,1.16492,0.95104,0.99673,1.12373,0.81217,1.0278,0.8527,0.56044,1.03437,0.93383,1.07838,1.02787,0.84058,1.24142,0.68816,1.12268,1.27607,1.0193,0.74037,0.25558,0.97724,1.24886,0.48835,0.98853,0.68042,0.75216,0.69429,1.11758,0.61202,0.44626,0.67024,0.9553,0.54177,0.36485,1.07474,0.93287,0.52497,0.29283,1.02416,0.97318,0.74036,0.34112,0.95395,0.86086,0.52267,0.87287,0.63107,0.05661,0.83792,0.77109,0.44314,1.11306,0.61391,0.35041,0.08709,0.63069,1.15851,0.31292,0.34097,1.09426,0.27509,0.55507,0.55604,0.84731,0.1327,0.39394,0.42214,0.31995,0.34719,0.57939,0.27954,0.47155,0.10706,0.22415,0.32846,0.39499,0.38227,0.28123,0.74719,0.06831],\"type\":\"choropleth\"}],                        {\"template\":{\"data\":{\"histogram2dcontour\":[{\"type\":\"histogram2dcontour\",\"colorbar\":{\"outlinewidth\":0,\"ticks\":\"\"},\"colorscale\":[[0.0,\"#0d0887\"],[0.1111111111111111,\"#46039f\"],[0.2222222222222222,\"#7201a8\"],[0.3333333333333333,\"#9c179e\"],[0.4444444444444444,\"#bd3786\"],[0.5555555555555556,\"#d8576b\"],[0.6666666666666666,\"#ed7953\"],[0.7777777777777778,\"#fb9f3a\"],[0.8888888888888888,\"#fdca26\"],[1.0,\"#f0f921\"]]}],\"choropleth\":[{\"type\":\"choropleth\",\"colorbar\":{\"outlinewidth\":0,\"ticks\":\"\"}}],\"histogram2d\":[{\"type\":\"histogram2d\",\"colorbar\":{\"outlinewidth\":0,\"ticks\":\"\"},\"colorscale\":[[0.0,\"#0d0887\"],[0.1111111111111111,\"#46039f\"],[0.2222222222222222,\"#7201a8\"],[0.3333333333333333,\"#9c179e\"],[0.4444444444444444,\"#bd3786\"],[0.5555555555555556,\"#d8576b\"],[0.6666666666666666,\"#ed7953\"],[0.7777777777777778,\"#fb9f3a\"],[0.8888888888888888,\"#fdca26\"],[1.0,\"#f0f921\"]]}],\"heatmap\":[{\"type\":\"heatmap\",\"colorbar\":{\"outlinewidth\":0,\"ticks\":\"\"},\"colorscale\":[[0.0,\"#0d0887\"],[0.1111111111111111,\"#46039f\"],[0.2222222222222222,\"#7201a8\"],[0.3333333333333333,\"#9c179e\"],[0.4444444444444444,\"#bd3786\"],[0.5555555555555556,\"#d8576b\"],[0.6666666666666666,\"#ed7953\"],[0.7777777777777778,\"#fb9f3a\"],[0.8888888888888888,\"#fdca26\"],[1.0,\"#f0f921\"]]}],\"heatmapgl\":[{\"type\":\"heatmapgl\",\"colorbar\":{\"outlinewidth\":0,\"ticks\":\"\"},\"colorscale\":[[0.0,\"#0d0887\"],[0.1111111111111111,\"#46039f\"],[0.2222222222222222,\"#7201a8\"],[0.3333333333333333,\"#9c179e\"],[0.4444444444444444,\"#bd3786\"],[0.5555555555555556,\"#d8576b\"],[0.6666666666666666,\"#ed7953\"],[0.7777777777777778,\"#fb9f3a\"],[0.8888888888888888,\"#fdca26\"],[1.0,\"#f0f921\"]]}],\"contourcarpet\":[{\"type\":\"contourcarpet\",\"colorbar\":{\"outlinewidth\":0,\"ticks\":\"\"}}],\"contour\":[{\"type\":\"contour\",\"colorbar\":{\"outlinewidth\":0,\"ticks\":\"\"},\"colorscale\":[[0.0,\"#0d0887\"],[0.1111111111111111,\"#46039f\"],[0.2222222222222222,\"#7201a8\"],[0.3333333333333333,\"#9c179e\"],[0.4444444444444444,\"#bd3786\"],[0.5555555555555556,\"#d8576b\"],[0.6666666666666666,\"#ed7953\"],[0.7777777777777778,\"#fb9f3a\"],[0.8888888888888888,\"#fdca26\"],[1.0,\"#f0f921\"]]}],\"surface\":[{\"type\":\"surface\",\"colorbar\":{\"outlinewidth\":0,\"ticks\":\"\"},\"colorscale\":[[0.0,\"#0d0887\"],[0.1111111111111111,\"#46039f\"],[0.2222222222222222,\"#7201a8\"],[0.3333333333333333,\"#9c179e\"],[0.4444444444444444,\"#bd3786\"],[0.5555555555555556,\"#d8576b\"],[0.6666666666666666,\"#ed7953\"],[0.7777777777777778,\"#fb9f3a\"],[0.8888888888888888,\"#fdca26\"],[1.0,\"#f0f921\"]]}],\"mesh3d\":[{\"type\":\"mesh3d\",\"colorbar\":{\"outlinewidth\":0,\"ticks\":\"\"}}],\"scatter\":[{\"fillpattern\":{\"fillmode\":\"overlay\",\"size\":10,\"solidity\":0.2},\"type\":\"scatter\"}],\"parcoords\":[{\"type\":\"parcoords\",\"line\":{\"colorbar\":{\"outlinewidth\":0,\"ticks\":\"\"}}}],\"scatterpolargl\":[{\"type\":\"scatterpolargl\",\"marker\":{\"colorbar\":{\"outlinewidth\":0,\"ticks\":\"\"}}}],\"bar\":[{\"error_x\":{\"color\":\"#2a3f5f\"},\"error_y\":{\"color\":\"#2a3f5f\"},\"marker\":{\"line\":{\"color\":\"#E5ECF6\",\"width\":0.5},\"pattern\":{\"fillmode\":\"overlay\",\"size\":10,\"solidity\":0.2}},\"type\":\"bar\"}],\"scattergeo\":[{\"type\":\"scattergeo\",\"marker\":{\"colorbar\":{\"outlinewidth\":0,\"ticks\":\"\"}}}],\"scatterpolar\":[{\"type\":\"scatterpolar\",\"marker\":{\"colorbar\":{\"outlinewidth\":0,\"ticks\":\"\"}}}],\"histogram\":[{\"marker\":{\"pattern\":{\"fillmode\":\"overlay\",\"size\":10,\"solidity\":0.2}},\"type\":\"histogram\"}],\"scattergl\":[{\"type\":\"scattergl\",\"marker\":{\"colorbar\":{\"outlinewidth\":0,\"ticks\":\"\"}}}],\"scatter3d\":[{\"type\":\"scatter3d\",\"line\":{\"colorbar\":{\"outlinewidth\":0,\"ticks\":\"\"}},\"marker\":{\"colorbar\":{\"outlinewidth\":0,\"ticks\":\"\"}}}],\"scattermapbox\":[{\"type\":\"scattermapbox\",\"marker\":{\"colorbar\":{\"outlinewidth\":0,\"ticks\":\"\"}}}],\"scatterternary\":[{\"type\":\"scatterternary\",\"marker\":{\"colorbar\":{\"outlinewidth\":0,\"ticks\":\"\"}}}],\"scattercarpet\":[{\"type\":\"scattercarpet\",\"marker\":{\"colorbar\":{\"outlinewidth\":0,\"ticks\":\"\"}}}],\"carpet\":[{\"aaxis\":{\"endlinecolor\":\"#2a3f5f\",\"gridcolor\":\"white\",\"linecolor\":\"white\",\"minorgridcolor\":\"white\",\"startlinecolor\":\"#2a3f5f\"},\"baxis\":{\"endlinecolor\":\"#2a3f5f\",\"gridcolor\":\"white\",\"linecolor\":\"white\",\"minorgridcolor\":\"white\",\"startlinecolor\":\"#2a3f5f\"},\"type\":\"carpet\"}],\"table\":[{\"cells\":{\"fill\":{\"color\":\"#EBF0F8\"},\"line\":{\"color\":\"white\"}},\"header\":{\"fill\":{\"color\":\"#C8D4E3\"},\"line\":{\"color\":\"white\"}},\"type\":\"table\"}],\"barpolar\":[{\"marker\":{\"line\":{\"color\":\"#E5ECF6\",\"width\":0.5},\"pattern\":{\"fillmode\":\"overlay\",\"size\":10,\"solidity\":0.2}},\"type\":\"barpolar\"}],\"pie\":[{\"automargin\":true,\"type\":\"pie\"}]},\"layout\":{\"autotypenumbers\":\"strict\",\"colorway\":[\"#636efa\",\"#EF553B\",\"#00cc96\",\"#ab63fa\",\"#FFA15A\",\"#19d3f3\",\"#FF6692\",\"#B6E880\",\"#FF97FF\",\"#FECB52\"],\"font\":{\"color\":\"#2a3f5f\"},\"hovermode\":\"closest\",\"hoverlabel\":{\"align\":\"left\"},\"paper_bgcolor\":\"white\",\"plot_bgcolor\":\"#E5ECF6\",\"polar\":{\"bgcolor\":\"#E5ECF6\",\"angularaxis\":{\"gridcolor\":\"white\",\"linecolor\":\"white\",\"ticks\":\"\"},\"radialaxis\":{\"gridcolor\":\"white\",\"linecolor\":\"white\",\"ticks\":\"\"}},\"ternary\":{\"bgcolor\":\"#E5ECF6\",\"aaxis\":{\"gridcolor\":\"white\",\"linecolor\":\"white\",\"ticks\":\"\"},\"baxis\":{\"gridcolor\":\"white\",\"linecolor\":\"white\",\"ticks\":\"\"},\"caxis\":{\"gridcolor\":\"white\",\"linecolor\":\"white\",\"ticks\":\"\"}},\"coloraxis\":{\"colorbar\":{\"outlinewidth\":0,\"ticks\":\"\"}},\"colorscale\":{\"sequential\":[[0.0,\"#0d0887\"],[0.1111111111111111,\"#46039f\"],[0.2222222222222222,\"#7201a8\"],[0.3333333333333333,\"#9c179e\"],[0.4444444444444444,\"#bd3786\"],[0.5555555555555556,\"#d8576b\"],[0.6666666666666666,\"#ed7953\"],[0.7777777777777778,\"#fb9f3a\"],[0.8888888888888888,\"#fdca26\"],[1.0,\"#f0f921\"]],\"sequentialminus\":[[0.0,\"#0d0887\"],[0.1111111111111111,\"#46039f\"],[0.2222222222222222,\"#7201a8\"],[0.3333333333333333,\"#9c179e\"],[0.4444444444444444,\"#bd3786\"],[0.5555555555555556,\"#d8576b\"],[0.6666666666666666,\"#ed7953\"],[0.7777777777777778,\"#fb9f3a\"],[0.8888888888888888,\"#fdca26\"],[1.0,\"#f0f921\"]],\"diverging\":[[0,\"#8e0152\"],[0.1,\"#c51b7d\"],[0.2,\"#de77ae\"],[0.3,\"#f1b6da\"],[0.4,\"#fde0ef\"],[0.5,\"#f7f7f7\"],[0.6,\"#e6f5d0\"],[0.7,\"#b8e186\"],[0.8,\"#7fbc41\"],[0.9,\"#4d9221\"],[1,\"#276419\"]]},\"xaxis\":{\"gridcolor\":\"white\",\"linecolor\":\"white\",\"ticks\":\"\",\"title\":{\"standoff\":15},\"zerolinecolor\":\"white\",\"automargin\":true,\"zerolinewidth\":2},\"yaxis\":{\"gridcolor\":\"white\",\"linecolor\":\"white\",\"ticks\":\"\",\"title\":{\"standoff\":15},\"zerolinecolor\":\"white\",\"automargin\":true,\"zerolinewidth\":2},\"scene\":{\"xaxis\":{\"backgroundcolor\":\"#E5ECF6\",\"gridcolor\":\"white\",\"linecolor\":\"white\",\"showbackground\":true,\"ticks\":\"\",\"zerolinecolor\":\"white\",\"gridwidth\":2},\"yaxis\":{\"backgroundcolor\":\"#E5ECF6\",\"gridcolor\":\"white\",\"linecolor\":\"white\",\"showbackground\":true,\"ticks\":\"\",\"zerolinecolor\":\"white\",\"gridwidth\":2},\"zaxis\":{\"backgroundcolor\":\"#E5ECF6\",\"gridcolor\":\"white\",\"linecolor\":\"white\",\"showbackground\":true,\"ticks\":\"\",\"zerolinecolor\":\"white\",\"gridwidth\":2}},\"shapedefaults\":{\"line\":{\"color\":\"#2a3f5f\"}},\"annotationdefaults\":{\"arrowcolor\":\"#2a3f5f\",\"arrowhead\":0,\"arrowwidth\":1},\"geo\":{\"bgcolor\":\"white\",\"landcolor\":\"#E5ECF6\",\"subunitcolor\":\"white\",\"showland\":true,\"showlakes\":true,\"lakecolor\":\"white\"},\"title\":{\"x\":0.05},\"mapbox\":{\"style\":\"light\"}}},\"geo\":{\"domain\":{\"x\":[0.0,1.0],\"y\":[0.0,1.0]},\"center\":{}},\"coloraxis\":{\"colorbar\":{\"title\":{\"text\":\"Economy (GDP per Capita)\"}},\"colorscale\":[[0.0,\"#0d0887\"],[0.1111111111111111,\"#46039f\"],[0.2222222222222222,\"#7201a8\"],[0.3333333333333333,\"#9c179e\"],[0.4444444444444444,\"#bd3786\"],[0.5555555555555556,\"#d8576b\"],[0.6666666666666666,\"#ed7953\"],[0.7777777777777778,\"#fb9f3a\"],[0.8888888888888888,\"#fdca26\"],[1.0,\"#f0f921\"]]},\"legend\":{\"tracegroupgap\":0},\"title\":{\"text\":\"GDP per Capita and Healthy Life Expectancy by Country\"}},                        {\"responsive\": true}                    ).then(function(){\n",
       "                            \n",
       "var gd = document.getElementById('bdea274d-db12-4b70-af4b-d12df17f43f2');\n",
       "var x = new MutationObserver(function (mutations, observer) {{\n",
       "        var display = window.getComputedStyle(gd).display;\n",
       "        if (!display || display === 'none') {{\n",
       "            console.log([gd, 'removed!']);\n",
       "            Plotly.purge(gd);\n",
       "            observer.disconnect();\n",
       "        }}\n",
       "}});\n",
       "\n",
       "// Listen for the removal of the full notebook cells\n",
       "var notebookContainer = gd.closest('#notebook-container');\n",
       "if (notebookContainer) {{\n",
       "    x.observe(notebookContainer, {childList: true});\n",
       "}}\n",
       "\n",
       "// Listen for the clearing of the current output cell\n",
       "var outputEl = gd.closest('.output');\n",
       "if (outputEl) {{\n",
       "    x.observe(outputEl, {childList: true});\n",
       "}}\n",
       "\n",
       "                        })                };                });            </script>        </div>"
      ]
     },
     "metadata": {},
     "output_type": "display_data"
    }
   ],
   "source": [
    "# Write a Plotly code that creates a map named fig5 to display GDP per capita of countries and include Healthy Life Expectancy to be shown as a tooltip.\n",
    "\n",
    "#print(df)\n",
    "# Create a map to display GDP per Capita with Healthy Life Expectancy as tooltip\n",
    "fig5 = px.choropleth(\n",
    "    df,\n",
    "    locations='Country',  # Use ISO codes for country locations\n",
    "    locationmode='country names',  # Specify that we are using country names\n",
    "    color='Economy (GDP per Capita)',\n",
    "    hover_name='Country',\n",
    "    hover_data={'Health (Life Expectancy)': True},  # Show Healthy Life Expectancy in tooltip\n",
    "    color_continuous_scale=px.colors.sequential.Plasma,\n",
    "    title='GDP per Capita and Healthy Life Expectancy by Country',\n",
    "    labels={'Economy (GDP per Capita)': 'Economy (GDP per Capita)'}\n",
    ")\n",
    "\n",
    "\n",
    "# Show the map\n",
    "fig5.show()"
   ]
  },
  {
   "cell_type": "markdown",
   "id": "4a2ad830",
   "metadata": {
    "papermill": {
     "duration": 0.010737,
     "end_time": "2024-11-04T15:05:46.969453",
     "exception": false,
     "start_time": "2024-11-04T15:05:46.958716",
     "status": "completed"
    },
    "tags": []
   },
   "source": [
    "## Saving all Plots to a HTML File (Dashboard.html)"
   ]
  },
  {
   "cell_type": "code",
   "execution_count": 19,
   "id": "cfcefa13",
   "metadata": {
    "execution": {
     "iopub.execute_input": "2024-11-04T15:05:46.993329Z",
     "iopub.status.busy": "2024-11-04T15:05:46.992887Z",
     "iopub.status.idle": "2024-11-04T15:05:47.441550Z",
     "shell.execute_reply": "2024-11-04T15:05:47.440041Z"
    },
    "papermill": {
     "duration": 0.463377,
     "end_time": "2024-11-04T15:05:47.443939",
     "exception": false,
     "start_time": "2024-11-04T15:05:46.980562",
     "status": "completed"
    },
    "tags": []
   },
   "outputs": [
    {
     "name": "stdout",
     "output_type": "stream",
     "text": [
      "Figures saved to Dashboard.html\n"
     ]
    }
   ],
   "source": [
    "# Save the figures to a single HTML file\n",
    "import plotly.offline as pyo\n",
    "\n",
    "# Save each figure to an HTML file\n",
    "pyo.plot(fig1, filename='figure1.html', auto_open=False)\n",
    "pyo.plot(fig2, filename='figure2.html', auto_open=False)\n",
    "pyo.plot(fig3, filename='figure3.html', auto_open=False)\n",
    "pyo.plot(fig4, filename='figure4.html', auto_open=False)\n",
    "pyo.plot(fig5, filename='figure5.html', auto_open=False)\n",
    "\n",
    "\n",
    "# Combine the two HTML files into one\n",
    "with open('Dashboard.html', 'w') as combined_file:\n",
    "    combined_file.write('<html><head><title>Combined Figures</title></head><body>')\n",
    "    \n",
    "    # Read and append the content of the first figure\n",
    "    with open('figure1.html', 'r') as f1:\n",
    "        combined_file.write(f1.read())\n",
    "    \n",
    "    # Read and append the content of the second figure\n",
    "    with open('figure2.html', 'r') as f2:\n",
    "        combined_file.write(f2.read())\n",
    "\n",
    "    # Read and append the content of the second figure\n",
    "    with open('figure3.html', 'r') as f3:\n",
    "        combined_file.write(f3.read())\n",
    "\n",
    "    # Read and append the content of the second figure\n",
    "    with open('figure4.html', 'r') as f4:\n",
    "        combined_file.write(f4.read())\n",
    "\n",
    "    # Read and append the content of the second figure\n",
    "    with open('figure5.html', 'r') as f5:\n",
    "        combined_file.write(f5.read())\n",
    "    \n",
    "    \n",
    "    combined_file.write('</body></html>')\n",
    "\n",
    "\n",
    "print(\"Figures saved to Dashboard.html\")\n"
   ]
  },
  {
   "cell_type": "code",
   "execution_count": 20,
   "id": "5c5b8528",
   "metadata": {
    "execution": {
     "iopub.execute_input": "2024-11-04T15:05:47.468155Z",
     "iopub.status.busy": "2024-11-04T15:05:47.467704Z",
     "iopub.status.idle": "2024-11-04T15:05:47.473959Z",
     "shell.execute_reply": "2024-11-04T15:05:47.472873Z"
    },
    "papermill": {
     "duration": 0.020915,
     "end_time": "2024-11-04T15:05:47.476223",
     "exception": false,
     "start_time": "2024-11-04T15:05:47.455308",
     "status": "completed"
    },
    "tags": []
   },
   "outputs": [
    {
     "name": "stdout",
     "output_type": "stream",
     "text": [
      "Index(['Country', 'Region', 'Happiness Rank', 'Happiness Score',\n",
      "       'Lower Confidence Interval', 'Upper Confidence Interval',\n",
      "       'Economy (GDP per Capita)', 'Family', 'Health (Life Expectancy)',\n",
      "       'Freedom', 'Trust (Government Corruption)', 'Generosity',\n",
      "       'Dystopia Residual'],\n",
      "      dtype='object')\n"
     ]
    }
   ],
   "source": [
    "print(df.columns)"
   ]
  },
  {
   "cell_type": "code",
   "execution_count": 21,
   "id": "c6dc5923",
   "metadata": {
    "execution": {
     "iopub.execute_input": "2024-11-04T15:05:47.501280Z",
     "iopub.status.busy": "2024-11-04T15:05:47.500836Z",
     "iopub.status.idle": "2024-11-04T15:05:47.841328Z",
     "shell.execute_reply": "2024-11-04T15:05:47.840060Z"
    },
    "papermill": {
     "duration": 0.356335,
     "end_time": "2024-11-04T15:05:47.843845",
     "exception": false,
     "start_time": "2024-11-04T15:05:47.487510",
     "status": "completed"
    },
    "tags": []
   },
   "outputs": [
    {
     "data": {
      "text/html": [
       "<div>                            <div id=\"b36e41f7-594a-4193-92cd-6b81f547488d\" class=\"plotly-graph-div\" style=\"height:600px; width:100%;\"></div>            <script type=\"text/javascript\">                require([\"plotly\"], function(Plotly) {                    window.PLOTLYENV=window.PLOTLYENV || {};                                    if (document.getElementById(\"b36e41f7-594a-4193-92cd-6b81f547488d\")) {                    Plotly.newPlot(                        \"b36e41f7-594a-4193-92cd-6b81f547488d\",                        [{\"marker\":{\"color\":\"blue\"},\"name\":\"GDP per Capita\",\"x\":[\"Qatar\",\"Luxembourg\",\"Singapore\",\"Kuwait\",\"Norway\",\"United Arab Emirates\",\"Switzerland\",\"Hong Kong\",\"United States\",\"Saudi Arabia\"],\"y\":[1.82427,1.69752,1.64555,1.61714,1.57744,1.57352,1.52733,1.5107,1.50796,1.48953],\"type\":\"bar\",\"xaxis\":\"x\",\"yaxis\":\"y\"},{\"marker\":{\"color\":\"orange\"},\"name\":\"Healthy Life Expectancy\",\"x\":[\"Qatar\",\"Luxembourg\",\"Singapore\",\"Kuwait\",\"Norway\",\"United Arab Emirates\",\"Switzerland\",\"Hong Kong\",\"United States\",\"Saudi Arabia\"],\"y\":[0.71723,0.84542,0.94719,0.63569,0.79579,0.72993,0.86303,0.95277,0.5533422727272727,0.59267],\"type\":\"bar\",\"xaxis\":\"x\",\"yaxis\":\"y\"},{\"colorbar\":{\"title\":{\"text\":\"Color Scale\"},\"x\":-0.3,\"xanchor\":\"right\",\"y\":0.5,\"yanchor\":\"middle\"},\"colorscale\":[[0.0,\"#440154\"],[0.1111111111111111,\"#482878\"],[0.2222222222222222,\"#3e4989\"],[0.3333333333333333,\"#31688e\"],[0.4444444444444444,\"#26828e\"],[0.5555555555555556,\"#1f9e89\"],[0.6666666666666666,\"#35b779\"],[0.7777777777777778,\"#6ece58\"],[0.8888888888888888,\"#b5de2b\"],[1.0,\"#fde725\"]],\"x\":[\"Economy (GDP per Capita)\",\"Health (Life Expectancy)\",\"Freedom\",\"Trust (Government Corruption)\",\"Generosity\",\"Happiness Score\"],\"y\":[\"Economy (GDP per Capita)\",\"Health (Life Expectancy)\",\"Freedom\",\"Trust (Government Corruption)\",\"Generosity\",\"Happiness Score\"],\"z\":[[1.0,0.8256985541456067,0.3609980770935007,0.2860688986698786,-0.022071846978839856,0.7896246889690565],[0.8256985541456067,1.0,0.34802785316320745,0.26192787474087614,0.06976012664052986,0.7594712524031421],[0.3609980770935007,0.34802785316320745,1.0,0.502030463367597,0.3617916252586865,0.5668067435905342],[0.2860688986698786,0.26192787474087614,0.502030463367597,1.0,0.30592986119121796,0.40203224514729247],[-0.022071846978839856,0.06976012664052986,0.3617916252586865,0.30592986119121796,1.0,0.15684779640360774],[0.7896246889690565,0.7594712524031421,0.5668067435905342,0.40203224514729247,0.15684779640360774,1.0]],\"type\":\"heatmap\",\"xaxis\":\"x3\",\"yaxis\":\"y3\"},{\"marker\":{\"color\":\"blue\",\"line\":{\"width\":1},\"size\":10},\"mode\":\"markers\",\"name\":\"GDP vs Happiness\",\"text\":[\"Denmark\",\"Switzerland\",\"Iceland\",\"Norway\",\"Finland\",\"Canada\",\"Netherlands\",\"New Zealand\",\"Australia\",\"Sweden\",\"Israel\",\"Austria\",\"United States\",\"Costa Rica\",\"Puerto Rico\",\"Germany\",\"Brazil\",\"Belgium\",\"Ireland\",\"Luxembourg\",\"Mexico\",\"Singapore\",\"United Kingdom\",\"Chile\",\"Panama\",\"Argentina\",\"Czech Republic\",\"United Arab Emirates\",\"Uruguay\",\"Malta\",\"Colombia\",\"France\",\"Thailand\",\"Saudi Arabia\",\"Taiwan\",\"Qatar\",\"Spain\",\"Algeria\",\"Guatemala\",\"Suriname\",\"Kuwait\",\"Bahrain\",\"Trinidad and Tobago\",\"Venezuela\",\"Slovakia\",\"El Salvador\",\"Malaysia\",\"Nicaragua\",\"Uzbekistan\",\"Italy\",\"Ecuador\",\"Belize\",\"Japan\",\"Kazakhstan\",\"Moldova\",\"Russia\",\"Poland\",\"South Korea\",\"Bolivia\",\"Lithuania\",\"Belarus\",\"North Cyprus\",\"Slovenia\",\"Peru\",\"Turkmenistan\",\"Mauritius\",\"Libya\",\"Latvia\",\"Cyprus\",\"Paraguay\",\"Romania\",\"Estonia\",\"Jamaica\",\"Croatia\",\"Hong Kong\",\"Somalia\",\"Kosovo\",\"Turkey\",\"Indonesia\",\"Jordan\",\"Azerbaijan\",\"Philippines\",\"China\",\"Bhutan\",\"Kyrgyzstan\",\"Serbia\",\"Bosnia and Herzegovina\",\"Montenegro\",\"Dominican Republic\",\"Morocco\",\"Hungary\",\"Pakistan\",\"Lebanon\",\"Portugal\",\"Macedonia\",\"Vietnam\",\"Somaliland Region\",\"Tunisia\",\"Greece\",\"Tajikistan\",\"Mongolia\",\"Laos\",\"Nigeria\",\"Honduras\",\"Iran\",\"Zambia\",\"Nepal\",\"Palestinian Territories\",\"Albania\",\"Bangladesh\",\"Sierra Leone\",\"Iraq\",\"Namibia\",\"Cameroon\",\"Ethiopia\",\"South Africa\",\"Sri Lanka\",\"India\",\"Myanmar\",\"Egypt\",\"Armenia\",\"Kenya\",\"Ukraine\",\"Ghana\",\"Congo (Kinshasa)\",\"Georgia\",\"Congo (Brazzaville)\",\"Senegal\",\"Bulgaria\",\"Mauritania\",\"Zimbabwe\",\"Malawi\",\"Sudan\",\"Gabon\",\"Mali\",\"Haiti\",\"Botswana\",\"Comoros\",\"Ivory Coast\",\"Cambodia\",\"Angola\",\"Niger\",\"South Sudan\",\"Chad\",\"Burkina Faso\",\"Uganda\",\"Yemen\",\"Madagascar\",\"Tanzania\",\"Liberia\",\"Guinea\",\"Rwanda\",\"Benin\",\"Afghanistan\",\"Togo\",\"Syria\",\"Burundi\"],\"x\":[1.44178,1.52733,1.42666,1.57744,1.40598,1.44015,1.46468,1.36066,1.44443,1.45181,1.33766,1.45038,1.50796,1.06879,1.35943,1.44787,1.08754,1.42539,1.48341,1.69752,1.11508,1.64555,1.40283,1.2167,1.18306,1.15137,1.30915,1.57352,1.18157,1.30782,1.03032,1.39488,1.0893,1.48953,1.39729,1.82427,1.34253,1.05266,0.83454,1.09686,1.61714,0.951772064516129,1.32572,1.13367,1.27973,0.8737,1.25142,0.69384,0.73591,1.35495,0.97306,0.87616,1.38007,1.22943,0.69177,1.23228,1.24585,1.35948,0.951772064516129,1.2692,1.13062,1.31141,1.29947,0.99602,1.08017,1.14372,1.06688,1.21788,1.31857,0.89373,1.1697,1.27964,0.89333,1.18649,1.5107,0.0,0.90145,1.16492,0.95104,0.99673,1.12373,0.81217,1.0278,0.8527,0.56044,1.03437,0.93383,1.07838,1.02787,0.84058,1.24142,0.68816,1.12268,1.27607,1.0193,0.74037,0.25558,0.97724,1.24886,0.48835,0.98853,0.68042,0.75216,0.69429,1.11758,0.61202,0.44626,0.67024,0.9553,0.54177,0.36485,1.07474,0.93287,0.52497,0.29283,1.02416,0.97318,0.74036,0.34112,0.95395,0.86086,0.52267,0.87287,0.63107,0.05661,0.83792,0.77109,0.44314,1.11306,0.61391,0.35041,0.08709,0.63069,1.15851,0.31292,0.34097,1.09426,0.27509,0.55507,0.55604,0.84731,0.1327,0.39394,0.42214,0.31995,0.34719,0.57939,0.27954,0.47155,0.10706,0.22415,0.32846,0.39499,0.38227,0.28123,0.74719,0.06831],\"y\":[7.526,7.509,7.501,7.498,7.413,7.404,7.339,7.334,7.313,7.291,7.267,7.119,7.104,7.087,7.039,6.994,6.952,6.929,6.907,6.871,6.778,6.739,6.725,6.705,6.701,6.65,6.596,6.573,6.545,6.488,6.481,6.478,6.474,6.379,6.379,6.375,6.361,6.355,6.324,6.269,6.239,6.218,6.168,6.084,6.078,6.068,6.005,5.992,5.987,5.977,5.976,5.956,5.921,5.919,5.897,5.856,5.835,5.835,5.822,5.813,5.802,5.771,5.768,5.743,5.658,5.648,5.615,5.56,5.546,5.538,5.528,5.517,5.51,5.488,5.458,5.44,5.401,5.389,5.314,5.303,5.291,5.279,5.245,5.196,5.185,5.177,5.163,5.161,5.155,5.151,5.145,5.132,5.129,5.123,5.121,5.061,5.057,5.045,5.033,4.996,4.907,4.876,4.875,4.871,4.813,4.795,4.793,4.754,4.655,4.643,4.635,4.575,4.574,4.513,4.508,4.459,4.415,4.404,4.395,4.362,4.36,4.356,4.324,4.276,4.272,4.252,4.236,4.219,4.217,4.201,4.193,4.156,4.139,4.121,4.073,4.028,3.974,3.956,3.916,3.907,3.866,3.856,3.832,3.763,3.739,3.739,3.724,3.695,3.666,3.622,3.607,3.515,3.484,3.36,3.303,3.069,2.905],\"type\":\"scatter\",\"xaxis\":\"x2\",\"yaxis\":\"y2\"},{\"labels\":[\"Australia and New Zealand\",\"Central and Eastern Europe\",\"Eastern Asia\",\"Latin America and Caribbean\",\"Middle East and Northern Africa\",\"North America\",\"Southeastern Asia\",\"Southern Asia\",\"Sub-Saharan Africa\",\"Western Europe\"],\"name\":\"Happiness Score by Region\",\"values\":[2,29,6,24,19,2,9,7,38,21],\"type\":\"pie\",\"domain\":{\"x\":[0.55,1.0],\"y\":[0.3888888888888889,0.6111111111111112]}},{\"locations\":[\"DNK\",\"CHE\",\"ISL\",\"NOR\",\"FIN\",\"CAN\",\"NLD\",\"NZL\",\"AUS\",\"SWE\",\"ISR\",\"AUT\",\"USA\",\"CRI\",\"PRI\",\"DEU\",\"BRA\",\"BEL\",\"IRL\",\"LUX\",\"MEX\",\"SGP\",\"GBR\",\"CHL\",\"PAN\",\"ARG\",null,\"ARE\",\"URY\",\"MLT\",\"COL\",\"FRA\",\"THA\",\"SAU\",null,\"QAT\",\"ESP\",\"DZA\",\"GTM\",\"SUR\",\"KWT\",\"BHR\",\"TTO\",null,\"SVK\",\"SLV\",\"MYS\",\"NIC\",\"UZB\",\"ITA\",\"ECU\",\"BLZ\",\"JPN\",\"KAZ\",null,null,\"POL\",null,null,\"LTU\",\"BLR\",null,\"SVN\",\"PER\",\"TKM\",\"MUS\",\"LBY\",\"LVA\",\"CYP\",\"PRY\",\"ROU\",\"EST\",\"JAM\",\"HRV\",\"HKG\",\"SOM\",null,null,\"IDN\",\"JOR\",\"AZE\",\"PHL\",\"CHN\",\"BTN\",\"KGZ\",\"SRB\",\"BIH\",\"MNE\",\"DOM\",\"MAR\",\"HUN\",\"PAK\",\"LBN\",\"PRT\",null,null,null,\"TUN\",\"GRC\",\"TJK\",\"MNG\",null,\"NGA\",\"HND\",null,\"ZMB\",\"NPL\",null,\"ALB\",\"BGD\",\"SLE\",\"IRQ\",\"NAM\",\"CMR\",\"ETH\",\"ZAF\",\"LKA\",\"IND\",\"MMR\",\"EGY\",\"ARM\",\"KEN\",\"UKR\",\"GHA\",null,\"GEO\",null,\"SEN\",\"BGR\",\"MRT\",\"ZWE\",\"MWI\",\"SDN\",\"GAB\",\"MLI\",\"HTI\",\"BWA\",\"COM\",null,\"KHM\",\"AGO\",\"NER\",\"SSD\",\"TCD\",\"BFA\",\"UGA\",\"YEM\",\"MDG\",null,\"LBR\",\"GIN\",\"RWA\",\"BEN\",\"AFG\",\"TGO\",null,\"BDI\"],\"marker\":{\"color\":[1.44178,1.52733,1.42666,1.57744,1.40598,1.44015,1.46468,1.36066,1.44443,1.45181,1.33766,1.45038,1.50796,1.06879,1.35943,1.44787,1.08754,1.42539,1.48341,1.69752,1.11508,1.64555,1.40283,1.2167,1.18306,1.15137,1.30915,1.57352,1.18157,1.30782,1.03032,1.39488,1.0893,1.48953,1.39729,1.82427,1.34253,1.05266,0.83454,1.09686,1.61714,0.951772064516129,1.32572,1.13367,1.27973,0.8737,1.25142,0.69384,0.73591,1.35495,0.97306,0.87616,1.38007,1.22943,0.69177,1.23228,1.24585,1.35948,0.951772064516129,1.2692,1.13062,1.31141,1.29947,0.99602,1.08017,1.14372,1.06688,1.21788,1.31857,0.89373,1.1697,1.27964,0.89333,1.18649,1.5107,0.0,0.90145,1.16492,0.95104,0.99673,1.12373,0.81217,1.0278,0.8527,0.56044,1.03437,0.93383,1.07838,1.02787,0.84058,1.24142,0.68816,1.12268,1.27607,1.0193,0.74037,0.25558,0.97724,1.24886,0.48835,0.98853,0.68042,0.75216,0.69429,1.11758,0.61202,0.44626,0.67024,0.9553,0.54177,0.36485,1.07474,0.93287,0.52497,0.29283,1.02416,0.97318,0.74036,0.34112,0.95395,0.86086,0.52267,0.87287,0.63107,0.05661,0.83792,0.77109,0.44314,1.11306,0.61391,0.35041,0.08709,0.63069,1.15851,0.31292,0.34097,1.09426,0.27509,0.55507,0.55604,0.84731,0.1327,0.39394,0.42214,0.31995,0.34719,0.57939,0.27954,0.47155,0.10706,0.22415,0.32846,0.39499,0.38227,0.28123,0.74719,0.06831],\"colorbar\":{\"title\":{\"text\":\"GDP\\u002fCapita\"},\"x\":1.8,\"xanchor\":\"right\",\"y\":3.5,\"yanchor\":\"middle\"},\"colorscale\":[[0.0,\"#440154\"],[0.1111111111111111,\"#482878\"],[0.2222222222222222,\"#3e4989\"],[0.3333333333333333,\"#31688e\"],[0.4444444444444444,\"#26828e\"],[0.5555555555555556,\"#1f9e89\"],[0.6666666666666666,\"#35b779\"],[0.7777777777777778,\"#6ece58\"],[0.8888888888888888,\"#b5de2b\"],[1.0,\"#fde725\"]],\"line\":{\"color\":\"black\",\"width\":0.5},\"size\":10},\"text\":[1.44178,1.52733,1.42666,1.57744,1.40598,1.44015,1.46468,1.36066,1.44443,1.45181,1.33766,1.45038,1.50796,1.06879,1.35943,1.44787,1.08754,1.42539,1.48341,1.69752,1.11508,1.64555,1.40283,1.2167,1.18306,1.15137,1.30915,1.57352,1.18157,1.30782,1.03032,1.39488,1.0893,1.48953,1.39729,1.82427,1.34253,1.05266,0.83454,1.09686,1.61714,0.951772064516129,1.32572,1.13367,1.27973,0.8737,1.25142,0.69384,0.73591,1.35495,0.97306,0.87616,1.38007,1.22943,0.69177,1.23228,1.24585,1.35948,0.951772064516129,1.2692,1.13062,1.31141,1.29947,0.99602,1.08017,1.14372,1.06688,1.21788,1.31857,0.89373,1.1697,1.27964,0.89333,1.18649,1.5107,0.0,0.90145,1.16492,0.95104,0.99673,1.12373,0.81217,1.0278,0.8527,0.56044,1.03437,0.93383,1.07838,1.02787,0.84058,1.24142,0.68816,1.12268,1.27607,1.0193,0.74037,0.25558,0.97724,1.24886,0.48835,0.98853,0.68042,0.75216,0.69429,1.11758,0.61202,0.44626,0.67024,0.9553,0.54177,0.36485,1.07474,0.93287,0.52497,0.29283,1.02416,0.97318,0.74036,0.34112,0.95395,0.86086,0.52267,0.87287,0.63107,0.05661,0.83792,0.77109,0.44314,1.11306,0.61391,0.35041,0.08709,0.63069,1.15851,0.31292,0.34097,1.09426,0.27509,0.55507,0.55604,0.84731,0.1327,0.39394,0.42214,0.31995,0.34719,0.57939,0.27954,0.47155,0.10706,0.22415,0.32846,0.39499,0.38227,0.28123,0.74719,0.06831],\"textposition\":\"top center\",\"type\":\"scattergeo\",\"geo\":\"geo\"}],                        {\"template\":{\"data\":{\"histogram2dcontour\":[{\"type\":\"histogram2dcontour\",\"colorbar\":{\"outlinewidth\":0,\"ticks\":\"\"},\"colorscale\":[[0.0,\"#0d0887\"],[0.1111111111111111,\"#46039f\"],[0.2222222222222222,\"#7201a8\"],[0.3333333333333333,\"#9c179e\"],[0.4444444444444444,\"#bd3786\"],[0.5555555555555556,\"#d8576b\"],[0.6666666666666666,\"#ed7953\"],[0.7777777777777778,\"#fb9f3a\"],[0.8888888888888888,\"#fdca26\"],[1.0,\"#f0f921\"]]}],\"choropleth\":[{\"type\":\"choropleth\",\"colorbar\":{\"outlinewidth\":0,\"ticks\":\"\"}}],\"histogram2d\":[{\"type\":\"histogram2d\",\"colorbar\":{\"outlinewidth\":0,\"ticks\":\"\"},\"colorscale\":[[0.0,\"#0d0887\"],[0.1111111111111111,\"#46039f\"],[0.2222222222222222,\"#7201a8\"],[0.3333333333333333,\"#9c179e\"],[0.4444444444444444,\"#bd3786\"],[0.5555555555555556,\"#d8576b\"],[0.6666666666666666,\"#ed7953\"],[0.7777777777777778,\"#fb9f3a\"],[0.8888888888888888,\"#fdca26\"],[1.0,\"#f0f921\"]]}],\"heatmap\":[{\"type\":\"heatmap\",\"colorbar\":{\"outlinewidth\":0,\"ticks\":\"\"},\"colorscale\":[[0.0,\"#0d0887\"],[0.1111111111111111,\"#46039f\"],[0.2222222222222222,\"#7201a8\"],[0.3333333333333333,\"#9c179e\"],[0.4444444444444444,\"#bd3786\"],[0.5555555555555556,\"#d8576b\"],[0.6666666666666666,\"#ed7953\"],[0.7777777777777778,\"#fb9f3a\"],[0.8888888888888888,\"#fdca26\"],[1.0,\"#f0f921\"]]}],\"heatmapgl\":[{\"type\":\"heatmapgl\",\"colorbar\":{\"outlinewidth\":0,\"ticks\":\"\"},\"colorscale\":[[0.0,\"#0d0887\"],[0.1111111111111111,\"#46039f\"],[0.2222222222222222,\"#7201a8\"],[0.3333333333333333,\"#9c179e\"],[0.4444444444444444,\"#bd3786\"],[0.5555555555555556,\"#d8576b\"],[0.6666666666666666,\"#ed7953\"],[0.7777777777777778,\"#fb9f3a\"],[0.8888888888888888,\"#fdca26\"],[1.0,\"#f0f921\"]]}],\"contourcarpet\":[{\"type\":\"contourcarpet\",\"colorbar\":{\"outlinewidth\":0,\"ticks\":\"\"}}],\"contour\":[{\"type\":\"contour\",\"colorbar\":{\"outlinewidth\":0,\"ticks\":\"\"},\"colorscale\":[[0.0,\"#0d0887\"],[0.1111111111111111,\"#46039f\"],[0.2222222222222222,\"#7201a8\"],[0.3333333333333333,\"#9c179e\"],[0.4444444444444444,\"#bd3786\"],[0.5555555555555556,\"#d8576b\"],[0.6666666666666666,\"#ed7953\"],[0.7777777777777778,\"#fb9f3a\"],[0.8888888888888888,\"#fdca26\"],[1.0,\"#f0f921\"]]}],\"surface\":[{\"type\":\"surface\",\"colorbar\":{\"outlinewidth\":0,\"ticks\":\"\"},\"colorscale\":[[0.0,\"#0d0887\"],[0.1111111111111111,\"#46039f\"],[0.2222222222222222,\"#7201a8\"],[0.3333333333333333,\"#9c179e\"],[0.4444444444444444,\"#bd3786\"],[0.5555555555555556,\"#d8576b\"],[0.6666666666666666,\"#ed7953\"],[0.7777777777777778,\"#fb9f3a\"],[0.8888888888888888,\"#fdca26\"],[1.0,\"#f0f921\"]]}],\"mesh3d\":[{\"type\":\"mesh3d\",\"colorbar\":{\"outlinewidth\":0,\"ticks\":\"\"}}],\"scatter\":[{\"fillpattern\":{\"fillmode\":\"overlay\",\"size\":10,\"solidity\":0.2},\"type\":\"scatter\"}],\"parcoords\":[{\"type\":\"parcoords\",\"line\":{\"colorbar\":{\"outlinewidth\":0,\"ticks\":\"\"}}}],\"scatterpolargl\":[{\"type\":\"scatterpolargl\",\"marker\":{\"colorbar\":{\"outlinewidth\":0,\"ticks\":\"\"}}}],\"bar\":[{\"error_x\":{\"color\":\"#2a3f5f\"},\"error_y\":{\"color\":\"#2a3f5f\"},\"marker\":{\"line\":{\"color\":\"#E5ECF6\",\"width\":0.5},\"pattern\":{\"fillmode\":\"overlay\",\"size\":10,\"solidity\":0.2}},\"type\":\"bar\"}],\"scattergeo\":[{\"type\":\"scattergeo\",\"marker\":{\"colorbar\":{\"outlinewidth\":0,\"ticks\":\"\"}}}],\"scatterpolar\":[{\"type\":\"scatterpolar\",\"marker\":{\"colorbar\":{\"outlinewidth\":0,\"ticks\":\"\"}}}],\"histogram\":[{\"marker\":{\"pattern\":{\"fillmode\":\"overlay\",\"size\":10,\"solidity\":0.2}},\"type\":\"histogram\"}],\"scattergl\":[{\"type\":\"scattergl\",\"marker\":{\"colorbar\":{\"outlinewidth\":0,\"ticks\":\"\"}}}],\"scatter3d\":[{\"type\":\"scatter3d\",\"line\":{\"colorbar\":{\"outlinewidth\":0,\"ticks\":\"\"}},\"marker\":{\"colorbar\":{\"outlinewidth\":0,\"ticks\":\"\"}}}],\"scattermapbox\":[{\"type\":\"scattermapbox\",\"marker\":{\"colorbar\":{\"outlinewidth\":0,\"ticks\":\"\"}}}],\"scatterternary\":[{\"type\":\"scatterternary\",\"marker\":{\"colorbar\":{\"outlinewidth\":0,\"ticks\":\"\"}}}],\"scattercarpet\":[{\"type\":\"scattercarpet\",\"marker\":{\"colorbar\":{\"outlinewidth\":0,\"ticks\":\"\"}}}],\"carpet\":[{\"aaxis\":{\"endlinecolor\":\"#2a3f5f\",\"gridcolor\":\"white\",\"linecolor\":\"white\",\"minorgridcolor\":\"white\",\"startlinecolor\":\"#2a3f5f\"},\"baxis\":{\"endlinecolor\":\"#2a3f5f\",\"gridcolor\":\"white\",\"linecolor\":\"white\",\"minorgridcolor\":\"white\",\"startlinecolor\":\"#2a3f5f\"},\"type\":\"carpet\"}],\"table\":[{\"cells\":{\"fill\":{\"color\":\"#EBF0F8\"},\"line\":{\"color\":\"white\"}},\"header\":{\"fill\":{\"color\":\"#C8D4E3\"},\"line\":{\"color\":\"white\"}},\"type\":\"table\"}],\"barpolar\":[{\"marker\":{\"line\":{\"color\":\"#E5ECF6\",\"width\":0.5},\"pattern\":{\"fillmode\":\"overlay\",\"size\":10,\"solidity\":0.2}},\"type\":\"barpolar\"}],\"pie\":[{\"automargin\":true,\"type\":\"pie\"}]},\"layout\":{\"autotypenumbers\":\"strict\",\"colorway\":[\"#636efa\",\"#EF553B\",\"#00cc96\",\"#ab63fa\",\"#FFA15A\",\"#19d3f3\",\"#FF6692\",\"#B6E880\",\"#FF97FF\",\"#FECB52\"],\"font\":{\"color\":\"#2a3f5f\"},\"hovermode\":\"closest\",\"hoverlabel\":{\"align\":\"left\"},\"paper_bgcolor\":\"white\",\"plot_bgcolor\":\"#E5ECF6\",\"polar\":{\"bgcolor\":\"#E5ECF6\",\"angularaxis\":{\"gridcolor\":\"white\",\"linecolor\":\"white\",\"ticks\":\"\"},\"radialaxis\":{\"gridcolor\":\"white\",\"linecolor\":\"white\",\"ticks\":\"\"}},\"ternary\":{\"bgcolor\":\"#E5ECF6\",\"aaxis\":{\"gridcolor\":\"white\",\"linecolor\":\"white\",\"ticks\":\"\"},\"baxis\":{\"gridcolor\":\"white\",\"linecolor\":\"white\",\"ticks\":\"\"},\"caxis\":{\"gridcolor\":\"white\",\"linecolor\":\"white\",\"ticks\":\"\"}},\"coloraxis\":{\"colorbar\":{\"outlinewidth\":0,\"ticks\":\"\"}},\"colorscale\":{\"sequential\":[[0.0,\"#0d0887\"],[0.1111111111111111,\"#46039f\"],[0.2222222222222222,\"#7201a8\"],[0.3333333333333333,\"#9c179e\"],[0.4444444444444444,\"#bd3786\"],[0.5555555555555556,\"#d8576b\"],[0.6666666666666666,\"#ed7953\"],[0.7777777777777778,\"#fb9f3a\"],[0.8888888888888888,\"#fdca26\"],[1.0,\"#f0f921\"]],\"sequentialminus\":[[0.0,\"#0d0887\"],[0.1111111111111111,\"#46039f\"],[0.2222222222222222,\"#7201a8\"],[0.3333333333333333,\"#9c179e\"],[0.4444444444444444,\"#bd3786\"],[0.5555555555555556,\"#d8576b\"],[0.6666666666666666,\"#ed7953\"],[0.7777777777777778,\"#fb9f3a\"],[0.8888888888888888,\"#fdca26\"],[1.0,\"#f0f921\"]],\"diverging\":[[0,\"#8e0152\"],[0.1,\"#c51b7d\"],[0.2,\"#de77ae\"],[0.3,\"#f1b6da\"],[0.4,\"#fde0ef\"],[0.5,\"#f7f7f7\"],[0.6,\"#e6f5d0\"],[0.7,\"#b8e186\"],[0.8,\"#7fbc41\"],[0.9,\"#4d9221\"],[1,\"#276419\"]]},\"xaxis\":{\"gridcolor\":\"white\",\"linecolor\":\"white\",\"ticks\":\"\",\"title\":{\"standoff\":15},\"zerolinecolor\":\"white\",\"automargin\":true,\"zerolinewidth\":2},\"yaxis\":{\"gridcolor\":\"white\",\"linecolor\":\"white\",\"ticks\":\"\",\"title\":{\"standoff\":15},\"zerolinecolor\":\"white\",\"automargin\":true,\"zerolinewidth\":2},\"scene\":{\"xaxis\":{\"backgroundcolor\":\"#E5ECF6\",\"gridcolor\":\"white\",\"linecolor\":\"white\",\"showbackground\":true,\"ticks\":\"\",\"zerolinecolor\":\"white\",\"gridwidth\":2},\"yaxis\":{\"backgroundcolor\":\"#E5ECF6\",\"gridcolor\":\"white\",\"linecolor\":\"white\",\"showbackground\":true,\"ticks\":\"\",\"zerolinecolor\":\"white\",\"gridwidth\":2},\"zaxis\":{\"backgroundcolor\":\"#E5ECF6\",\"gridcolor\":\"white\",\"linecolor\":\"white\",\"showbackground\":true,\"ticks\":\"\",\"zerolinecolor\":\"white\",\"gridwidth\":2}},\"shapedefaults\":{\"line\":{\"color\":\"#2a3f5f\"}},\"annotationdefaults\":{\"arrowcolor\":\"#2a3f5f\",\"arrowhead\":0,\"arrowwidth\":1},\"geo\":{\"bgcolor\":\"white\",\"landcolor\":\"#E5ECF6\",\"subunitcolor\":\"white\",\"showland\":true,\"showlakes\":true,\"lakecolor\":\"white\"},\"title\":{\"x\":0.05},\"mapbox\":{\"style\":\"light\"}}},\"xaxis\":{\"anchor\":\"y\",\"domain\":[0.0,0.45]},\"yaxis\":{\"anchor\":\"x\",\"domain\":[0.7777777777777778,1.0]},\"xaxis2\":{\"anchor\":\"y2\",\"domain\":[0.55,1.0]},\"yaxis2\":{\"anchor\":\"x2\",\"domain\":[0.7777777777777778,1.0]},\"xaxis3\":{\"anchor\":\"y3\",\"domain\":[0.0,0.45]},\"yaxis3\":{\"anchor\":\"x3\",\"domain\":[0.3888888888888889,0.6111111111111112]},\"geo\":{\"domain\":{\"x\":[0.0,0.45],\"y\":[0.0,0.22222222222222224]},\"scope\":\"world\",\"showland\":true},\"annotations\":[{\"font\":{\"size\":16},\"showarrow\":false,\"text\":\"Bar Chart: GDP & Life Expectancy\",\"x\":0.225,\"xanchor\":\"center\",\"xref\":\"paper\",\"y\":1.0,\"yanchor\":\"bottom\",\"yref\":\"paper\"},{\"font\":{\"size\":16},\"showarrow\":false,\"text\":\"Scatter Plot: GDP vs Happiness Score\",\"x\":0.775,\"xanchor\":\"center\",\"xref\":\"paper\",\"y\":1.0,\"yanchor\":\"bottom\",\"yref\":\"paper\"},{\"font\":{\"size\":16},\"showarrow\":false,\"text\":\"Heatmap: Correlation\",\"x\":0.225,\"xanchor\":\"center\",\"xref\":\"paper\",\"y\":0.6111111111111112,\"yanchor\":\"bottom\",\"yref\":\"paper\"},{\"font\":{\"size\":16},\"showarrow\":false,\"text\":\"Pie Chart: Happiness by Region\",\"x\":0.775,\"xanchor\":\"center\",\"xref\":\"paper\",\"y\":0.6111111111111112,\"yanchor\":\"bottom\",\"yref\":\"paper\"},{\"font\":{\"size\":16},\"showarrow\":false,\"text\":\"Map: GDP & Life Expectancy\",\"x\":0.225,\"xanchor\":\"center\",\"xref\":\"paper\",\"y\":0.22222222222222224,\"yanchor\":\"bottom\",\"yref\":\"paper\"}],\"title\":{\"text\":\"World Happiness Report\"},\"font\":{\"size\":10},\"margin\":{\"l\":50,\"r\":50,\"t\":50,\"b\":10},\"height\":600,\"showlegend\":true},                        {\"responsive\": true}                    ).then(function(){\n",
       "                            \n",
       "var gd = document.getElementById('b36e41f7-594a-4193-92cd-6b81f547488d');\n",
       "var x = new MutationObserver(function (mutations, observer) {{\n",
       "        var display = window.getComputedStyle(gd).display;\n",
       "        if (!display || display === 'none') {{\n",
       "            console.log([gd, 'removed!']);\n",
       "            Plotly.purge(gd);\n",
       "            observer.disconnect();\n",
       "        }}\n",
       "}});\n",
       "\n",
       "// Listen for the removal of the full notebook cells\n",
       "var notebookContainer = gd.closest('#notebook-container');\n",
       "if (notebookContainer) {{\n",
       "    x.observe(notebookContainer, {childList: true});\n",
       "}}\n",
       "\n",
       "// Listen for the clearing of the current output cell\n",
       "var outputEl = gd.closest('.output');\n",
       "if (outputEl) {{\n",
       "    x.observe(outputEl, {childList: true});\n",
       "}}\n",
       "\n",
       "                        })                };                });            </script>        </div>"
      ]
     },
     "metadata": {},
     "output_type": "display_data"
    }
   ],
   "source": [
    "# Create subplots\n",
    "fig = make_subplots(\n",
    "    rows=3, cols=2,\n",
    "    specs=[[{\"type\": \"bar\"}, {\"type\": \"scatter\"}],\n",
    "           [{\"type\": \"heatmap\"}, {\"type\": \"pie\"}],\n",
    "           [{\"type\": \"scattergeo\"}, None]],\n",
    "    subplot_titles=(\"Bar Chart: GDP & Life Expectancy\", \"Scatter Plot: GDP vs Happiness Score\",\n",
    "                    \"Heatmap: Correlation\", \"Pie Chart: Happiness by Region\", \"Map: GDP & Life Expectancy\")\n",
    ")\n",
    "\n",
    "# Section 1: Bar Chart - GDP Capita and Health Life expectancy of top 10 countries.\n",
    "fig.add_trace(go.Bar(\n",
    "    x=top_10_countries['Country'],\n",
    "    y=top_10_countries['Economy (GDP per Capita)'],\n",
    "    name='GDP per Capita',\n",
    "    marker_color='blue'\n",
    "), row=1, col=1)\n",
    "\n",
    "fig.add_trace(go.Bar(\n",
    "    x=top_10_countries['Country'],\n",
    "    y=top_10_countries['Health (Life Expectancy)'],\n",
    "    name='Healthy Life Expectancy',\n",
    "    marker_color='orange'\n",
    "), row=1, col=1)\n",
    "\n",
    "\n",
    "# 2. Heatmap \n",
    "\n",
    "fig.add_trace(go.Heatmap(\n",
    "    z=corr_matrix.values,  # Use the values of the correlation matrix\n",
    "    x=corr_matrix.columns,  # Use the column names for x-axis\n",
    "    y=corr_matrix.index,     # Use the index names for y-axis\n",
    "    colorscale='Viridis',\n",
    "    colorbar=dict(\n",
    "        title='Color Scale',  # Title for the colorbar\n",
    "        x=-0.3,  # Adjust x position (negative value moves it to the left)\n",
    "        y=0.5,   # Adjust y position (0.5 centers it vertically)\n",
    "        xanchor='right',  # Anchor the colorbar to the right\n",
    "        yanchor='middle'  # Anchor the colorbar to the middle\n",
    "    )\n",
    "), row=2, col=1)\n",
    "\n",
    "# Section 3: Scatter Plot\n",
    "fig.add_trace(go.Scatter(\n",
    "    x=df['Economy (GDP per Capita)'],\n",
    "    y=df['Happiness Score'],\n",
    "    mode='markers',\n",
    "    marker=dict(size=10, color='blue', line=dict(width=1)),\n",
    "    text=df['Country'],\n",
    "    name='GDP vs Happiness'\n",
    "), row=1, col=2)\n",
    "\n",
    "\n",
    "\n",
    "# 4. Pie Chart\n",
    "\n",
    "fig.add_trace(go.Pie(\n",
    "    labels=df_pie['Region'],\n",
    "    values=df_pie['Happiness Score'],\n",
    "    name='Happiness Score by Region'\n",
    "), row=2, col=2)\n",
    "\n",
    "# We have to include only country code values in locations for scattergeo for map.\n",
    "# we have to import pycountry to get country codes for country names in df\n",
    "# Create a DataFrame with country names and ISO codes\n",
    "countries = [(country.name, country.alpha_3) for country in pc.countries]\n",
    "country_df = pd.DataFrame(countries, columns=['Country Name', 'Country Code'])\n",
    "\n",
    "# Example: Display the DataFrame\n",
    "#print(country_df[country_df['Country Name'] == 'Denmark'])\n",
    "\n",
    "# List to hold country codes\n",
    "locations = []\n",
    "\n",
    "#Get country code\n",
    "for country in df['Country']:\n",
    "    if country in country_df['Country Name'].values:  # Check if country is in the list of country names\n",
    "        # Get the corresponding country code\n",
    "        country_code = country_df[country_df['Country Name'] == country]['Country Code'].values[0]\n",
    "        locations.append(country_code)\n",
    "        #print(country_code)\n",
    "        #print(f'Country: {country}, Country Code: {country_code}')\n",
    "    else:\n",
    "        locations.append(None)  # Append None if no country code is found\n",
    "        #print('No country code for the country:', country)\n",
    "\n",
    "# 5. Heat Map\n",
    "\n",
    "text=df['Economy (GDP per Capita)']\n",
    "#print(locations)\n",
    "fig.add_trace(go.Scattergeo(\n",
    "    locations=locations,\n",
    "    text=text,\n",
    "    #customdata = df,\n",
    "    #text=[f\"GDP: ${gdp}<br>Life Expectancy: {life} years\" for gdp, life in zip(df['Economy (GDP per Capita)'], df['Health (Life Expectancy)'])],\n",
    "    #hoverinfo=df['Country'],\n",
    "    textposition='top center',  # Adjust text position\n",
    "    marker=dict(\n",
    "        size=10,\n",
    "        color=df['Economy (GDP per Capita)'],  # Color based on GDP\n",
    "        colorscale='Viridis',  # Choose a colorscale\n",
    "        colorbar=dict(\n",
    "            title='GDP/Capita',\n",
    "            x=1.8,  # Adjust x position (1.1 moves it to the right)\n",
    "            y=3.5,  # Adjust y position (0.5 centers it vertically)\n",
    "            xanchor='right',  # Anchor the colorbar to the left\n",
    "            yanchor='middle'  # Anchor the colorbar to the middle\n",
    "        ),\n",
    "        line=dict(width=0.5, color='black')\n",
    "    )\n",
    "), row=3, col=1)\n",
    "\n",
    "\n",
    "# Update layout\n",
    "fig.update_layout(\n",
    "    title_text='World Happiness Report',\n",
    "    geo=dict(\n",
    "        scope='world',  # Adjust the scope as needed\n",
    "        showland=True\n",
    "    ),\n",
    "    font=dict(size=10),  # Adjust font size\n",
    "    #width=1000,  # Overall figure width\n",
    "    height=600,   # Overall figure height\n",
    "    showlegend=True,\n",
    "    margin=dict(l=50, r=50, t=50, b=10)  # Adjust bottom margin\n",
    ")\n",
    "\n",
    "# Save to HTML file\n",
    "fig.write_html(\"world_happiness_report.html\")\n",
    "\n",
    "# Assuming 'fig' is your figure object\n",
    "#This code was to avid printing html tags at the botton of the html file. But it doesn't work.\n",
    "pyo.plot(fig, filename='world_happiness_report.html', auto_open=False)\n",
    "\n",
    "# Show the figure\n",
    "fig.show()\n",
    "\n"
   ]
  },
  {
   "cell_type": "markdown",
   "id": "fbd29077",
   "metadata": {
    "papermill": {
     "duration": 0.01123,
     "end_time": "2024-11-04T15:05:47.867279",
     "exception": false,
     "start_time": "2024-11-04T15:05:47.856049",
     "status": "completed"
    },
    "tags": []
   },
   "source": [
    "## Here is a narrative for the bar chart to show GDP per capita and Healthy Life Expectancy of the top 10 countries:\n",
    "\n",
    "**Title:** \"World Happiness Report Dashboard\"\n",
    "\n",
    "\n",
    "**Introduction:**\n",
    "The World Happiness Report is a widely recognized measure of happiness and well-being. This dashboard presents a comprehensive analysis of the relationship between GDP per capita and happiness score in various regions, as well as a scatter plot to identify the effect of GDP per capita on happiness score, and a pie chart to present happiness score by region. Additionally, a map will be displayed to show the GDP per capita of countries and include their corresponding healthy life expectancy as a tooltip.\n",
    "\n",
    "\n",
    "**Section 1: Bar Chart**\n",
    "\n",
    "* **GDP per Capita:** * **Healthy Life Expectancy:** A bar chart will be used to display the GDP per capita and healthy life expectancy of the top 10 countries, with the x-axis representing the countries and the y-axis representing the GDP per capita and healthy life expectancy in different colors of blue (GDP) and Orange(Life Expectancy). This bar chart will display the top 10 countries with the highest GDP per capita and healthy life expectancy, providing a snapshot of the well-being of these nations.\n",
    "\n",
    "\n",
    "**Section 2: Correlation Heatmap**\n",
    "A heatmap will be used to visualize the correlation between GDP per capita and happiness score in various regions. The heatmap will display the correlation coefficient (r) and the p-value, which will indicate the strength and significance of the relationship.\n",
    "\n",
    "**Section 3: Scatter Plot - GDP per Capita vs. Happiness Score**\n",
    "A scatter plot will be used to identify the effect of GDP per capita on happiness score in various regions. The plot will display the relationship between the two variables, with GDP per capita on the x-axis and happiness score on the y-axis.\n",
    "\n",
    "**Section 4: Pie Chart - Happiness Score by Region**\n",
    "A pie chart will be used to present happiness score by region. The chart will display the percentage of countries with high happiness score (above 7) and low happiness score (below 3) in each region.\n",
    "\n",
    "**Section 5: Map with GDP per Capita and Healthy Life Expectancy**\n",
    "A map will be displayed to show the GDP per capita of countries and include their corresponding healthy life expectancy as a tooltip. The map will be interactive, allowing users to hover over each country to view its GDP per capita and healthy life expectancy.\n",
    "\n",
    "**Interactive Elements:**\n",
    "\n",
    "* Hover-over tooltip: \"GDP per capita: $[X]\" and \"Healthy Life Expectancy: [Y]\"\n",
    "* Click-and-hold feature: allows users to zoom in on a specific country to view its GDP per capita and healthy life expectancy\n"
   ]
  },
  {
   "cell_type": "markdown",
   "id": "26b5b508",
   "metadata": {
    "papermill": {
     "duration": 0.011437,
     "end_time": "2024-11-04T15:05:47.890562",
     "exception": false,
     "start_time": "2024-11-04T15:05:47.879125",
     "status": "completed"
    },
    "tags": []
   },
   "source": [
    "## Authors\n"
   ]
  },
  {
   "cell_type": "markdown",
   "id": "c19cd28c",
   "metadata": {
    "papermill": {
     "duration": 0.011426,
     "end_time": "2024-11-04T15:05:47.913669",
     "exception": false,
     "start_time": "2024-11-04T15:05:47.902243",
     "status": "completed"
    },
    "tags": []
   },
   "source": [
    "[Abhishek Gagneja](https://www.linkedin.com/in/abhishek-gagneja-23051987/)\n"
   ]
  },
  {
   "cell_type": "markdown",
   "id": "a605eb42",
   "metadata": {
    "papermill": {
     "duration": 0.011411,
     "end_time": "2024-11-04T15:05:47.936742",
     "exception": false,
     "start_time": "2024-11-04T15:05:47.925331",
     "status": "completed"
    },
    "tags": []
   },
   "source": [
    "## Change Log\n"
   ]
  },
  {
   "cell_type": "markdown",
   "id": "c2cbc7d9",
   "metadata": {
    "papermill": {
     "duration": 0.011374,
     "end_time": "2024-11-04T15:05:47.959702",
     "exception": false,
     "start_time": "2024-11-04T15:05:47.948328",
     "status": "completed"
    },
    "tags": []
   },
   "source": [
    "|Date (YYYY-MM-DD)|Version|Changed By|Change Description|\n",
    "|-|-|-|-|\n",
    "|2023-12-10|0.1|Abhishek Gagneja|Initial Draft created|\n"
   ]
  },
  {
   "cell_type": "markdown",
   "id": "f6b7832b",
   "metadata": {
    "papermill": {
     "duration": 0.011272,
     "end_time": "2024-11-04T15:05:47.982706",
     "exception": false,
     "start_time": "2024-11-04T15:05:47.971434",
     "status": "completed"
    },
    "tags": []
   },
   "source": [
    "Copyright © 2023 IBM Corporation. All rights reserved.\n"
   ]
  }
 ],
 "metadata": {
  "kaggle": {
   "accelerator": "none",
   "dataSources": [
    {
     "datasetId": 6009145,
     "sourceId": 9804048,
     "sourceType": "datasetVersion"
    }
   ],
   "dockerImageVersionId": 30786,
   "isGpuEnabled": false,
   "isInternetEnabled": true,
   "language": "python",
   "sourceType": "notebook"
  },
  "kernelspec": {
   "display_name": "Python 3",
   "language": "python",
   "name": "python3"
  },
  "language_info": {
   "codemirror_mode": {
    "name": "ipython",
    "version": 3
   },
   "file_extension": ".py",
   "mimetype": "text/x-python",
   "name": "python",
   "nbconvert_exporter": "python",
   "pygments_lexer": "ipython3",
   "version": "3.10.14"
  },
  "papermill": {
   "default_parameters": {},
   "duration": 27.151592,
   "end_time": "2024-11-04T15:05:48.817401",
   "environment_variables": {},
   "exception": null,
   "input_path": "__notebook__.ipynb",
   "output_path": "__notebook__.ipynb",
   "parameters": {},
   "start_time": "2024-11-04T15:05:21.665809",
   "version": "2.6.0"
  }
 },
 "nbformat": 4,
 "nbformat_minor": 5
}
